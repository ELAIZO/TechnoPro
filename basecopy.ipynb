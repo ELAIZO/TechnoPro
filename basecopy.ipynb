{
  "nbformat": 4,
  "nbformat_minor": 0,
  "metadata": {
    "colab": {
      "provenance": [],
      "gpuType": "T4"
    },
    "kernelspec": {
      "name": "python3",
      "display_name": "Python 3"
    },
    "language_info": {
      "name": "python"
    },
    "accelerator": "GPU"
  },
  "cells": [
    {
      "cell_type": "code",
      "execution_count": null,
      "metadata": {
        "colab": {
          "base_uri": "https://localhost:8080/"
        },
        "id": "gsVb-4k8TUjx",
        "outputId": "78327d1f-262b-49cf-d609-5295ede538ab"
      },
      "outputs": [
        {
          "output_type": "stream",
          "name": "stdout",
          "text": [
            "Mounted at /content/drive\n"
          ]
        }
      ],
      "source": [
        "from google.colab import drive\n",
        "drive.mount('/content/drive')"
      ]
    },
    {
      "cell_type": "code",
      "source": [
        "!nvidia-smi"
      ],
      "metadata": {
        "colab": {
          "base_uri": "https://localhost:8080/"
        },
        "id": "Vb3PVzm5q_du",
        "outputId": "1e97f2ec-49a5-446f-9972-846a27763515"
      },
      "execution_count": null,
      "outputs": [
        {
          "output_type": "stream",
          "name": "stdout",
          "text": [
            "Tue Aug 29 16:03:03 2023       \n",
            "+-----------------------------------------------------------------------------+\n",
            "| NVIDIA-SMI 525.105.17   Driver Version: 525.105.17   CUDA Version: 12.0     |\n",
            "|-------------------------------+----------------------+----------------------+\n",
            "| GPU  Name        Persistence-M| Bus-Id        Disp.A | Volatile Uncorr. ECC |\n",
            "| Fan  Temp  Perf  Pwr:Usage/Cap|         Memory-Usage | GPU-Util  Compute M. |\n",
            "|                               |                      |               MIG M. |\n",
            "|===============================+======================+======================|\n",
            "|   0  Tesla T4            Off  | 00000000:00:04.0 Off |                    0 |\n",
            "| N/A   37C    P8     9W /  70W |      0MiB / 15360MiB |      0%      Default |\n",
            "|                               |                      |                  N/A |\n",
            "+-------------------------------+----------------------+----------------------+\n",
            "                                                                               \n",
            "+-----------------------------------------------------------------------------+\n",
            "| Processes:                                                                  |\n",
            "|  GPU   GI   CI        PID   Type   Process name                  GPU Memory |\n",
            "|        ID   ID                                                   Usage      |\n",
            "|=============================================================================|\n",
            "|  No running processes found                                                 |\n",
            "+-----------------------------------------------------------------------------+\n"
          ]
        }
      ]
    },
    {
      "cell_type": "code",
      "source": [
        "!pip install colorama"
      ],
      "metadata": {
        "colab": {
          "base_uri": "https://localhost:8080/"
        },
        "id": "uWEmmsZ6b-1U",
        "outputId": "c12a1a1a-b8c3-4f52-f2a5-8b77d0a7b837"
      },
      "execution_count": null,
      "outputs": [
        {
          "output_type": "stream",
          "name": "stdout",
          "text": [
            "Collecting colorama\n",
            "  Downloading colorama-0.4.6-py2.py3-none-any.whl (25 kB)\n",
            "Installing collected packages: colorama\n",
            "Successfully installed colorama-0.4.6\n"
          ]
        }
      ]
    },
    {
      "cell_type": "code",
      "source": [
        "%%capture\n",
        "!cp /content/drive/MyDrive/Colab Notebooks/SIGNATE/TechnoPro/dataset/train.zip .\n",
        "!cp /content/drive/MyDrive/Colab Notebooks/SIGNATE/TechnoPro/dataset/test.zip .\n",
        "!unzip train.zip\n",
        "!unzip test.zip"
      ],
      "metadata": {
        "id": "4Nii7prle8Oe"
      },
      "execution_count": null,
      "outputs": []
    },
    {
      "cell_type": "code",
      "source": [
        "import os, shutil\n",
        "\n",
        "#必要なライブラリのインポート\n",
        "import re, gc, sys\n",
        "import pandas as pd\n",
        "import numpy as np\n",
        "import matplotlib.pyplot as plt\n",
        "from glob import glob\n",
        "import warnings, random\n",
        "import cv2\n",
        "\n",
        "warnings.filterwarnings(\"ignore\")\n",
        "\n",
        "from sklearn.metrics import accuracy_score, roc_auc_score\n",
        "from sklearn.model_selection import StratifiedKFold\n",
        "\n",
        "import torch\n",
        "import torch.nn as nn\n",
        "import torch.nn.functional as F\n",
        "import torch.optim as optim\n",
        "from torch.utils.data import DataLoader, Dataset\n",
        "from torch.optim import lr_scheduler\n",
        "\n",
        "import torchvision\n",
        "from torchvision import transforms\n",
        "import torchvision.models as models\n",
        "from torch.cuda.amp import GradScaler\n",
        "\n",
        "import yaml\n",
        "from tqdm import tqdm\n",
        "import time\n",
        "import copy\n",
        "from collections import defaultdict\n",
        "\n",
        "from colorama import Fore, Back, Style\n",
        "b_ = Fore.BLUE\n",
        "y_ = Fore.YELLOW\n",
        "sr_ = Style.RESET_ALL"
      ],
      "metadata": {
        "id": "MAdOjtJAcLNF"
      },
      "execution_count": null,
      "outputs": []
    },
    {
      "cell_type": "code",
      "source": [
        "ARGS = {'DATA_DIR': '/content/drive/MyDrive/Colab Notebooks/SIGNATE/TechnoPro/dataset',\n",
        "  'OUT_DIR': './',\n",
        "  'model_name': 'vit_l_16',\n",
        "  'n_fold': 5,\n",
        "  'epochs': 10,\n",
        "  'criterion': 'CrossEntropy',\n",
        "  'image_size': (224, 224),\n",
        "  'train_batch_size': 16,\n",
        "  'test_batch_size': 32,\n",
        "  'seed': 42,\n",
        "  'optimizer': 'AdamW',\n",
        "  'learning_rate': 1e-4,\n",
        "  'scheduler': 'CosineAnnealingLR',\n",
        "  'min_lr': 1e-06,\n",
        "  'T_max': 10,\n",
        "  'n_accumulate': 1,\n",
        "  'clip_grad_norm': 'None',\n",
        "  'apex': True,\n",
        "  'num_classes': 2,\n",
        "  'device': torch.device(\"cuda:0\" if torch.cuda.is_available() else \"cpu\")\n",
        "  }\n",
        "ARGS"
      ],
      "metadata": {
        "colab": {
          "base_uri": "https://localhost:8080/"
        },
        "id": "6pqYbsCrcWcE",
        "outputId": "3b0f3e59-e033-41ec-e6da-90f1e783d5a1"
      },
      "execution_count": null,
      "outputs": [
        {
          "output_type": "execute_result",
          "data": {
            "text/plain": [
              "{'DATA_DIR': '/content/drive/MyDrive/Colab Notebooks/SIGNATE/TechnoPro/dataset',\n",
              " 'OUT_DIR': './',\n",
              " 'model_name': 'vit_l_16',\n",
              " 'n_fold': 5,\n",
              " 'epochs': 10,\n",
              " 'criterion': 'CrossEntropy',\n",
              " 'image_size': (224, 224),\n",
              " 'train_batch_size': 16,\n",
              " 'test_batch_size': 32,\n",
              " 'seed': 42,\n",
              " 'optimizer': 'AdamW',\n",
              " 'learning_rate': 0.0001,\n",
              " 'scheduler': 'CosineAnnealingLR',\n",
              " 'min_lr': 1e-06,\n",
              " 'T_max': 10,\n",
              " 'n_accumulate': 1,\n",
              " 'clip_grad_norm': 'None',\n",
              " 'apex': True,\n",
              " 'num_classes': 2,\n",
              " 'device': device(type='cuda', index=0)}"
            ]
          },
          "metadata": {},
          "execution_count": 7
        }
      ]
    },
    {
      "cell_type": "code",
      "source": [
        "def get_logger(filename):\n",
        "    from logging import getLogger, INFO, StreamHandler, FileHandler, Formatter\n",
        "    logger = getLogger(__name__)\n",
        "    logger.setLevel(INFO)\n",
        "    handler2 = FileHandler(filename=f\"{filename}.log\")\n",
        "    handler2.setFormatter(Formatter(\"%(message)s\"))\n",
        "    logger.addHandler(handler2)\n",
        "    return logger\n",
        "\n",
        "#再現性を出すために必要な関数となります\n",
        "def worker_init_fn(worker_id):\n",
        "    torch.manual_seed(worker_id)\n",
        "    random.seed(worker_id)\n",
        "    np.random.seed(worker_id)\n",
        "    torch.cuda.manual_seed(worker_id)\n",
        "    os.environ['PYTHONHASHSEED'] = str(worker_id)\n",
        "\n",
        "def set_seed(seed=42):\n",
        "    '''Sets the seed of the entire notebook so results are the same every time we run.\n",
        "    This is for REPRODUCIBILITY.'''\n",
        "    random.seed(seed)\n",
        "    np.random.seed(seed)\n",
        "    torch.manual_seed(seed)\n",
        "    torch.cuda.manual_seed(seed)\n",
        "    torch.cuda.manual_seed_all(seed)\n",
        "    # When running on the CuDNN backend, two further options must be set\n",
        "    torch.backends.cudnn.deterministic = True\n",
        "    torch.backends.cudnn.benchmark = False\n",
        "    # Set a fixed value for the hash seed\n",
        "    os.environ['PYTHONHASHSEED'] = str(seed)\n",
        "\n",
        "\n",
        "LOGGER = get_logger(ARGS['OUT_DIR']+'train')\n",
        "set_seed(ARGS[\"seed\"])"
      ],
      "metadata": {
        "id": "iNHNdbfrda1W"
      },
      "execution_count": null,
      "outputs": []
    },
    {
      "cell_type": "code",
      "source": [
        "def create_folds(data, num_splits, seed):\n",
        "    data[\"kfold\"] = -1\n",
        "\n",
        "    mskf = StratifiedKFold(n_splits=num_splits, shuffle=True, random_state=seed)\n",
        "    labels = [\"label\"]\n",
        "    data_labels = data[labels].values\n",
        "\n",
        "    for f, (t_, v_) in enumerate(mskf.split(data, data_labels)):\n",
        "        data.loc[v_, \"kfold\"] = f\n",
        "\n",
        "    return data\n",
        "\n",
        "train = pd.read_csv(f\"{ARGS['DATA_DIR']}/train.csv\")\n",
        "train = create_folds(train, num_splits=ARGS[\"n_fold\"], seed=ARGS[\"seed\"])\n",
        "print(\"Folds created successfully\")\n",
        "\n",
        "train.head()"
      ],
      "metadata": {
        "colab": {
          "base_uri": "https://localhost:8080/",
          "height": 224
        },
        "id": "4PP3Bx5ki6aX",
        "outputId": "4d9eebc2-46b7-4c3d-89e2-35a16d5d0ff4"
      },
      "execution_count": null,
      "outputs": [
        {
          "output_type": "stream",
          "name": "stdout",
          "text": [
            "Folds created successfully\n"
          ]
        },
        {
          "output_type": "execute_result",
          "data": {
            "text/plain": [
              "  image_name  label  kfold\n",
              "0   0000.png      0      4\n",
              "1   0001.png      1      3\n",
              "2   0002.png      1      2\n",
              "3   0003.png      1      3\n",
              "4   0004.png      0      2"
            ],
            "text/html": [
              "\n",
              "  <div id=\"df-771eb47f-e774-41d1-833b-fb7460bc615a\" class=\"colab-df-container\">\n",
              "    <div>\n",
              "<style scoped>\n",
              "    .dataframe tbody tr th:only-of-type {\n",
              "        vertical-align: middle;\n",
              "    }\n",
              "\n",
              "    .dataframe tbody tr th {\n",
              "        vertical-align: top;\n",
              "    }\n",
              "\n",
              "    .dataframe thead th {\n",
              "        text-align: right;\n",
              "    }\n",
              "</style>\n",
              "<table border=\"1\" class=\"dataframe\">\n",
              "  <thead>\n",
              "    <tr style=\"text-align: right;\">\n",
              "      <th></th>\n",
              "      <th>image_name</th>\n",
              "      <th>label</th>\n",
              "      <th>kfold</th>\n",
              "    </tr>\n",
              "  </thead>\n",
              "  <tbody>\n",
              "    <tr>\n",
              "      <th>0</th>\n",
              "      <td>0000.png</td>\n",
              "      <td>0</td>\n",
              "      <td>4</td>\n",
              "    </tr>\n",
              "    <tr>\n",
              "      <th>1</th>\n",
              "      <td>0001.png</td>\n",
              "      <td>1</td>\n",
              "      <td>3</td>\n",
              "    </tr>\n",
              "    <tr>\n",
              "      <th>2</th>\n",
              "      <td>0002.png</td>\n",
              "      <td>1</td>\n",
              "      <td>2</td>\n",
              "    </tr>\n",
              "    <tr>\n",
              "      <th>3</th>\n",
              "      <td>0003.png</td>\n",
              "      <td>1</td>\n",
              "      <td>3</td>\n",
              "    </tr>\n",
              "    <tr>\n",
              "      <th>4</th>\n",
              "      <td>0004.png</td>\n",
              "      <td>0</td>\n",
              "      <td>2</td>\n",
              "    </tr>\n",
              "  </tbody>\n",
              "</table>\n",
              "</div>\n",
              "    <div class=\"colab-df-buttons\">\n",
              "\n",
              "  <div class=\"colab-df-container\">\n",
              "    <button class=\"colab-df-convert\" onclick=\"convertToInteractive('df-771eb47f-e774-41d1-833b-fb7460bc615a')\"\n",
              "            title=\"Convert this dataframe to an interactive table.\"\n",
              "            style=\"display:none;\">\n",
              "\n",
              "  <svg xmlns=\"http://www.w3.org/2000/svg\" height=\"24px\" viewBox=\"0 -960 960 960\">\n",
              "    <path d=\"M120-120v-720h720v720H120Zm60-500h600v-160H180v160Zm220 220h160v-160H400v160Zm0 220h160v-160H400v160ZM180-400h160v-160H180v160Zm440 0h160v-160H620v160ZM180-180h160v-160H180v160Zm440 0h160v-160H620v160Z\"/>\n",
              "  </svg>\n",
              "    </button>\n",
              "\n",
              "  <style>\n",
              "    .colab-df-container {\n",
              "      display:flex;\n",
              "      gap: 12px;\n",
              "    }\n",
              "\n",
              "    .colab-df-convert {\n",
              "      background-color: #E8F0FE;\n",
              "      border: none;\n",
              "      border-radius: 50%;\n",
              "      cursor: pointer;\n",
              "      display: none;\n",
              "      fill: #1967D2;\n",
              "      height: 32px;\n",
              "      padding: 0 0 0 0;\n",
              "      width: 32px;\n",
              "    }\n",
              "\n",
              "    .colab-df-convert:hover {\n",
              "      background-color: #E2EBFA;\n",
              "      box-shadow: 0px 1px 2px rgba(60, 64, 67, 0.3), 0px 1px 3px 1px rgba(60, 64, 67, 0.15);\n",
              "      fill: #174EA6;\n",
              "    }\n",
              "\n",
              "    .colab-df-buttons div {\n",
              "      margin-bottom: 4px;\n",
              "    }\n",
              "\n",
              "    [theme=dark] .colab-df-convert {\n",
              "      background-color: #3B4455;\n",
              "      fill: #D2E3FC;\n",
              "    }\n",
              "\n",
              "    [theme=dark] .colab-df-convert:hover {\n",
              "      background-color: #434B5C;\n",
              "      box-shadow: 0px 1px 3px 1px rgba(0, 0, 0, 0.15);\n",
              "      filter: drop-shadow(0px 1px 2px rgba(0, 0, 0, 0.3));\n",
              "      fill: #FFFFFF;\n",
              "    }\n",
              "  </style>\n",
              "\n",
              "    <script>\n",
              "      const buttonEl =\n",
              "        document.querySelector('#df-771eb47f-e774-41d1-833b-fb7460bc615a button.colab-df-convert');\n",
              "      buttonEl.style.display =\n",
              "        google.colab.kernel.accessAllowed ? 'block' : 'none';\n",
              "\n",
              "      async function convertToInteractive(key) {\n",
              "        const element = document.querySelector('#df-771eb47f-e774-41d1-833b-fb7460bc615a');\n",
              "        const dataTable =\n",
              "          await google.colab.kernel.invokeFunction('convertToInteractive',\n",
              "                                                    [key], {});\n",
              "        if (!dataTable) return;\n",
              "\n",
              "        const docLinkHtml = 'Like what you see? Visit the ' +\n",
              "          '<a target=\"_blank\" href=https://colab.research.google.com/notebooks/data_table.ipynb>data table notebook</a>'\n",
              "          + ' to learn more about interactive tables.';\n",
              "        element.innerHTML = '';\n",
              "        dataTable['output_type'] = 'display_data';\n",
              "        await google.colab.output.renderOutput(dataTable, element);\n",
              "        const docLink = document.createElement('div');\n",
              "        docLink.innerHTML = docLinkHtml;\n",
              "        element.appendChild(docLink);\n",
              "      }\n",
              "    </script>\n",
              "  </div>\n",
              "\n",
              "\n",
              "<div id=\"df-8b81a86b-cced-4d95-9128-e617e8315601\">\n",
              "  <button class=\"colab-df-quickchart\" onclick=\"quickchart('df-8b81a86b-cced-4d95-9128-e617e8315601')\"\n",
              "            title=\"Suggest charts.\"\n",
              "            style=\"display:none;\">\n",
              "\n",
              "<svg xmlns=\"http://www.w3.org/2000/svg\" height=\"24px\"viewBox=\"0 0 24 24\"\n",
              "     width=\"24px\">\n",
              "    <g>\n",
              "        <path d=\"M19 3H5c-1.1 0-2 .9-2 2v14c0 1.1.9 2 2 2h14c1.1 0 2-.9 2-2V5c0-1.1-.9-2-2-2zM9 17H7v-7h2v7zm4 0h-2V7h2v10zm4 0h-2v-4h2v4z\"/>\n",
              "    </g>\n",
              "</svg>\n",
              "  </button>\n",
              "\n",
              "<style>\n",
              "  .colab-df-quickchart {\n",
              "    background-color: #E8F0FE;\n",
              "    border: none;\n",
              "    border-radius: 50%;\n",
              "    cursor: pointer;\n",
              "    display: none;\n",
              "    fill: #1967D2;\n",
              "    height: 32px;\n",
              "    padding: 0 0 0 0;\n",
              "    width: 32px;\n",
              "  }\n",
              "\n",
              "  .colab-df-quickchart:hover {\n",
              "    background-color: #E2EBFA;\n",
              "    box-shadow: 0px 1px 2px rgba(60, 64, 67, 0.3), 0px 1px 3px 1px rgba(60, 64, 67, 0.15);\n",
              "    fill: #174EA6;\n",
              "  }\n",
              "\n",
              "  [theme=dark] .colab-df-quickchart {\n",
              "    background-color: #3B4455;\n",
              "    fill: #D2E3FC;\n",
              "  }\n",
              "\n",
              "  [theme=dark] .colab-df-quickchart:hover {\n",
              "    background-color: #434B5C;\n",
              "    box-shadow: 0px 1px 3px 1px rgba(0, 0, 0, 0.15);\n",
              "    filter: drop-shadow(0px 1px 2px rgba(0, 0, 0, 0.3));\n",
              "    fill: #FFFFFF;\n",
              "  }\n",
              "</style>\n",
              "\n",
              "  <script>\n",
              "    async function quickchart(key) {\n",
              "      const charts = await google.colab.kernel.invokeFunction(\n",
              "          'suggestCharts', [key], {});\n",
              "    }\n",
              "    (() => {\n",
              "      let quickchartButtonEl =\n",
              "        document.querySelector('#df-8b81a86b-cced-4d95-9128-e617e8315601 button');\n",
              "      quickchartButtonEl.style.display =\n",
              "        google.colab.kernel.accessAllowed ? 'block' : 'none';\n",
              "    })();\n",
              "  </script>\n",
              "</div>\n",
              "    </div>\n",
              "  </div>\n"
            ]
          },
          "metadata": {},
          "execution_count": 9
        }
      ]
    },
    {
      "cell_type": "code",
      "source": [
        "train[\"label\"].value_counts()"
      ],
      "metadata": {
        "colab": {
          "base_uri": "https://localhost:8080/"
        },
        "id": "LIrWROlEu6Em",
        "outputId": "08a944d6-6bef-4e17-8c60-1f8a08f87a47"
      },
      "execution_count": null,
      "outputs": [
        {
          "output_type": "execute_result",
          "data": {
            "text/plain": [
              "1    1182\n",
              "0     994\n",
              "Name: label, dtype: int64"
            ]
          },
          "metadata": {},
          "execution_count": 10
        }
      ]
    },
    {
      "cell_type": "code",
      "source": [
        "train['kfold'].value_counts()"
      ],
      "metadata": {
        "colab": {
          "base_uri": "https://localhost:8080/"
        },
        "id": "TZne9T5nu8cJ",
        "outputId": "a29b3dfe-2ce9-4858-fff9-15e3bc77a7d3"
      },
      "execution_count": null,
      "outputs": [
        {
          "output_type": "execute_result",
          "data": {
            "text/plain": [
              "0    436\n",
              "4    435\n",
              "3    435\n",
              "2    435\n",
              "1    435\n",
              "Name: kfold, dtype: int64"
            ]
          },
          "metadata": {},
          "execution_count": 11
        }
      ]
    },
    {
      "cell_type": "code",
      "source": [
        "class CustomDataset(Dataset):\n",
        "    def __init__(self, df, transform, data_type):\n",
        "        self.df = df\n",
        "        self.data_type = data_type\n",
        "\n",
        "        if self.data_type == \"train\":\n",
        "            self.image_paths = df['image_name']\n",
        "            self.labels = df['label']\n",
        "        if self.data_type == \"test\":\n",
        "            self.image_paths = df[0]\n",
        "\n",
        "        self.transform= transform\n",
        "\n",
        "    def __len__(self):\n",
        "        return len(self.df)\n",
        "\n",
        "    def __getitem__(self, index: int):\n",
        "        image_path = self.image_paths[index]\n",
        "\n",
        "        if self.data_type == \"train\":\n",
        "            image = cv2.imread(f\"/content/drive/MyDrive/Colab Notebooks/SIGNATE/TechnoPro/train/train/{image_path}\")\n",
        "\n",
        "            # Check if the image was correctly loaded\n",
        "            if image is None:\n",
        "                raise ValueError(f\"Failed to load image with path: /content/train/{image_path}\")\n",
        "\n",
        "            image = cv2.cvtColor(image, cv2.COLOR_BGR2RGB)\n",
        "\n",
        "            label = self.labels[index]\n",
        "            label = torch.tensor(label, dtype=torch.long)\n",
        "\n",
        "            image = self.transform(image=image)[\"image\"]\n",
        "            return image, label\n",
        "\n",
        "        if self.data_type == \"test\":\n",
        "            image = cv2.imread(f\"/content/drive/MyDrive/Colab Notebooks/SIGNATE/TechnoPro/test/test/{image_path}\")\n",
        "\n",
        "            # Check if the image was correctly loaded\n",
        "            if image is None:\n",
        "                raise ValueError(f\"Failed to load image with path: /content/test/{image_path}\")\n",
        "\n",
        "            image = cv2.cvtColor(image, cv2.COLOR_BGR2RGB)\n",
        "\n",
        "            image = self.transform(image=image)[\"image\"]\n",
        "\n",
        "            return image\n"
      ],
      "metadata": {
        "id": "0FIstqf7u-as"
      },
      "execution_count": null,
      "outputs": []
    },
    {
      "cell_type": "code",
      "source": [
        "import albumentations as albu\n",
        "from albumentations.pytorch import transforms as AT\n",
        "\n",
        "# Augumentation用\n",
        "image_transform = albu.Compose([\n",
        "    albu.Resize(ARGS[\"image_size\"][0], ARGS[\"image_size\"][1]),\n",
        "    # albu.HorizontalFlip(p=0.5),\n",
        "    # albu.VerticalFlip(p=0.5),\n",
        "    # albu.RandomBrightnessContrast(p=0.3),\n",
        "    # albu.RandomGamma(gamma_limit=(85, 115), p=0.3),\n",
        "    # albu.ShiftScaleRotate(shift_limit=0.1, scale_limit=0.10, rotate_limit=45, p=0.5),\n",
        "    albu.Normalize((0.5, 0.5, 0.5), (0.5, 0.5, 0.5)),\n",
        "    AT.ToTensorV2()\n",
        "])"
      ],
      "metadata": {
        "id": "rRcQKLjTvFaT"
      },
      "execution_count": null,
      "outputs": []
    },
    {
      "cell_type": "code",
      "source": [
        "def train_one_epoch(model, optimizer, train_loader, device, epoch):\n",
        "    model.train()\n",
        "    dataset_size = 0\n",
        "    running_loss = 0.0\n",
        "    running_score = []\n",
        "    running_score_y = []\n",
        "    scaler = GradScaler(enabled=ARGS[\"apex\"])\n",
        "\n",
        "    train_loss = []\n",
        "    bar = tqdm(enumerate(train_loader), total=len(train_loader))\n",
        "    for step, (images, targets) in bar:\n",
        "      images = images.to(device)\n",
        "      targets = targets.to(device)\n",
        "\n",
        "      batch_size = targets.size(0)\n",
        "      with torch.cuda.amp.autocast(enabled=ARGS[\"apex\"]):\n",
        "          outputs = model(images)\n",
        "          loss = criterion(ARGS, outputs, targets)\n",
        "\n",
        "      scaler.scale(loss).backward()\n",
        "\n",
        "      if ARGS[\"clip_grad_norm\"] != \"None\":\n",
        "          grad_norm = torch.nn.utils.clip_grad_norm_(model.parameters(), ARGS[\"clip_grad_norm\"])\n",
        "      else:\n",
        "          grad_norm = None\n",
        "\n",
        "      scaler.step(optimizer)\n",
        "      scaler.update()\n",
        "\n",
        "      optimizer.zero_grad()\n",
        "\n",
        "      if scheduler is not None:\n",
        "          scheduler.step()\n",
        "\n",
        "      train_loss.append(loss.item())\n",
        "\n",
        "      running_loss += (loss.item() * batch_size)\n",
        "      dataset_size += batch_size\n",
        "\n",
        "      epoch_loss = running_loss / dataset_size\n",
        "\n",
        "      running_score.append(outputs.detach().cpu().numpy())\n",
        "      running_score_y.append(targets.detach().cpu().numpy())\n",
        "\n",
        "      score = get_score(running_score_y, running_score)\n",
        "\n",
        "      bar.set_postfix(Epoch=epoch, Train_Loss=epoch_loss,\n",
        "                      Train_Acc=score[0],\n",
        "                      Train_Auc=score[1],\n",
        "                      LR=optimizer.param_groups[0]['lr']\n",
        "                      )\n",
        "    gc.collect()\n",
        "    return epoch_loss, score\n"
      ],
      "metadata": {
        "id": "0w7ws8EnvMoK"
      },
      "execution_count": null,
      "outputs": []
    },
    {
      "cell_type": "code",
      "source": [
        "@torch.no_grad()\n",
        "def valid_one_epoch(args, model, optimizer, valid_loader, epoch):\n",
        "    model.eval()\n",
        "\n",
        "    dataset_size = 0\n",
        "    running_loss = 0.0\n",
        "    preds = []\n",
        "    valid_targets = []\n",
        "    softmax = nn.Softmax()\n",
        "\n",
        "    bar = tqdm(enumerate(valid_loader), total=len(valid_loader))\n",
        "    for step, (images, targets) in enumerate(valid_loader):\n",
        "      images = images.to(args[\"device\"])\n",
        "      targets = targets.to(args[\"device\"])\n",
        "      batch_size = targets.size(0)\n",
        "      with torch.no_grad():\n",
        "        outputs = model(images)\n",
        "        predict = outputs.softmax(dim=1)\n",
        "        loss = criterion(args, outputs, targets)\n",
        "\n",
        "      running_loss += (loss.item() * batch_size)\n",
        "      dataset_size += batch_size\n",
        "\n",
        "      epoch_loss = running_loss / dataset_size\n",
        "\n",
        "      preds.append(predict.detach().cpu().numpy())\n",
        "      valid_targets.append(targets.detach().cpu().numpy())\n",
        "\n",
        "      if len(set(np.concatenate(valid_targets))) == 1:\n",
        "          continue\n",
        "      score = get_score(valid_targets, preds)\n",
        "\n",
        "      bar.set_postfix(Epoch=epoch, Valid_Loss=epoch_loss,\n",
        "                      Valid_Acc=score[0],\n",
        "                      Valid_Auc=score[1],\n",
        "                      LR=optimizer.param_groups[0]['lr'])\n",
        "\n",
        "    return epoch_loss, preds, valid_targets, score"
      ],
      "metadata": {
        "id": "knceJrjlvOJZ"
      },
      "execution_count": null,
      "outputs": []
    },
    {
      "cell_type": "code",
      "source": [
        "def one_fold(model, optimizer, schedulerr, device, num_epochs, fold):\n",
        "\n",
        "    if torch.cuda.is_available():\n",
        "        print(\"[INFO] Using GPU: {}\\n\".format(torch.cuda.get_device_name()))\n",
        "\n",
        "    start = time.time()\n",
        "    best_model_wts = copy.deepcopy(model.state_dict())\n",
        "    best_epoch_score = np.inf\n",
        "    best_prediction = None\n",
        "\n",
        "    best_score = -np.inf\n",
        "    for epoch in range(1, 1+num_epochs):\n",
        "      train_epoch_loss, train_score = train_one_epoch(model, optimizer,\n",
        "                                              train_loader=train_loader,\n",
        "                                              device=device, epoch=epoch)\n",
        "\n",
        "      train_acc, train_auc = train_score\n",
        "\n",
        "      val_epoch_loss, predictions, valid_targets, valid_score = valid_one_epoch(ARGS,\n",
        "                                                                                model,\n",
        "                                                                                optimizer,\n",
        "                                                                                valid_loader,\n",
        "                                                                                epoch=epoch)\n",
        "      valid_acc, valid_auc = valid_score\n",
        "\n",
        "      LOGGER.info(f'Epoch {epoch} - avg_train_loss: {train_epoch_loss:.4f}  avg_val_loss: {val_epoch_loss:.4f}')\n",
        "      LOGGER.info(f'Epoch {epoch} - Train Acc: {train_acc:.4f}  Train Auc: {train_auc:.4f}  Valid Acc: {valid_acc:.4f}  Valid Auc: {valid_auc:.4f}')\n",
        "\n",
        "      if valid_auc >= best_score:\n",
        "        best_score = valid_auc\n",
        "\n",
        "        print(f\"{b_}Validation Score Improved ({best_epoch_score} ---> {valid_auc})\")\n",
        "        best_epoch_score = valid_auc\n",
        "        best_model_wts = copy.deepcopy(model.state_dict())\n",
        "        # PATH = f\"Score-Fold-{fold}.bin\"\n",
        "        PATH = ARGS[\"OUT_DIR\"] + f\"Score-Fold-{fold}.bin\"\n",
        "        torch.save(model.state_dict(), PATH)\n",
        "        # Save a model file from the current directory\n",
        "        print(f\"Model Saved{sr_}\")\n",
        "\n",
        "        best_prediction = np.concatenate(predictions, axis=0)[:,1]\n",
        "\n",
        "    end = time.time()\n",
        "    time_elapsed = end - start\n",
        "\n",
        "    LOGGER.info('Training complete in {:.0f}h {:.0f}m {:.0f}s'.format(\n",
        "        time_elapsed // 3600, (time_elapsed % 3600) // 60, (time_elapsed % 3600) % 60))\n",
        "    LOGGER.info(\"Best Score: {:.4f}\".format(best_epoch_score))\n",
        "\n",
        "    # load best model weights\n",
        "    model.load_state_dict(best_model_wts)\n",
        "    return model, best_prediction, valid_targets"
      ],
      "metadata": {
        "id": "wBnXCbWuvZu6"
      },
      "execution_count": null,
      "outputs": []
    },
    {
      "cell_type": "code",
      "source": [
        "def create_model(args):\n",
        "    model = models.vit_l_16(pretrained=True)\n",
        "    model.heads[0] = torch.nn.Linear(in_features=model.heads[0].in_features, out_features=args[\"num_classes\"], bias=True)\n",
        "    return model\n",
        "\n",
        "def criterion(args, outputs, labels, class_weights=None):\n",
        "    if args['criterion'] == 'CrossEntropy':\n",
        "      return nn.CrossEntropyLoss(weight=class_weights).to(args[\"device\"])(outputs, labels)\n",
        "    elif args['criterion'] == \"None\":\n",
        "        return None\n",
        "\n",
        "def fetch_optimizer(optimizer_parameters, lr, betas, optimizer_name=\"Adam\"):\n",
        "    if optimizer_name == \"Adam\":\n",
        "        optimizer = optim.Adam(optimizer_parameters, lr=lr)\n",
        "    elif optimizer_name == \"AdamW\":\n",
        "        optimizer = optim.AdamW(optimizer_parameters, lr=lr, betas=betas)\n",
        "    return optimizer\n",
        "\n",
        "def fetch_scheduler(args, train_size, optimizer):\n",
        "\n",
        "    if args['scheduler'] == 'CosineAnnealingLR':\n",
        "        scheduler = lr_scheduler.CosineAnnealingLR(optimizer,T_max=args['T_max'],\n",
        "                                                   eta_min=args['min_lr'])\n",
        "    elif args['scheduler'] == 'CosineAnnealingWarmRestarts':\n",
        "        scheduler = lr_scheduler.CosineAnnealingWarmRestarts(optimizer,T_0=args['T_0'],\n",
        "                                                             eta_min=args['min_lr'])\n",
        "    elif args['scheduler'] == \"None\":\n",
        "        scheduler = None\n",
        "\n",
        "    return scheduler\n",
        "\n",
        "def get_score(y_trues, y_preds):\n",
        "\n",
        "    predict_list, targets_list = np.concatenate(y_preds, axis=0), np.concatenate(y_trues)\n",
        "    predict_list_proba = predict_list.copy()[:, 1]\n",
        "    predict_list = predict_list.argmax(axis=1)\n",
        "\n",
        "    accuracy = accuracy_score(predict_list, targets_list)\n",
        "    auc_score = roc_auc_score(targets_list, predict_list_proba)\n",
        "\n",
        "    return (accuracy, auc_score)\n",
        "\n",
        "def prepare_loaders(args, train, image_transform, fold):\n",
        "    df_train = train[train.kfold != fold].reset_index(drop=True)\n",
        "    df_valid = train[train.kfold == fold].reset_index(drop=True)\n",
        "\n",
        "    train_dataset = CustomDataset(df_train, image_transform, data_type=\"train\")\n",
        "    valid_dataset = CustomDataset(df_valid, image_transform, data_type=\"train\")\n",
        "\n",
        "    train_loader = DataLoader(train_dataset, batch_size=args['train_batch_size'],\n",
        "                              worker_init_fn=worker_init_fn(args[\"seed\"]),\n",
        "                              num_workers=4,\n",
        "                              shuffle=True, pin_memory=True, drop_last=True)\n",
        "    valid_loader = DataLoader(valid_dataset, batch_size=args['test_batch_size'],\n",
        "                              num_workers=4,\n",
        "                              shuffle=False, pin_memory=True)\n",
        "\n",
        "    return train_loader, valid_loader"
      ],
      "metadata": {
        "id": "3LYGsG9svkgY"
      },
      "execution_count": null,
      "outputs": []
    },
    {
      "cell_type": "code",
      "source": [
        "import os\n",
        "if not os.path.exists(\"/content/drive/MyDrive/Colab Notebooks/SIGNATE/TechnoPro/dataset/train/2011.png\"):\n",
        "    print(\"The image doesn't exist!\")\n"
      ],
      "metadata": {
        "id": "jwNQ6MV6yWaq"
      },
      "execution_count": null,
      "outputs": []
    },
    {
      "cell_type": "code",
      "source": [
        "train_copy = train.copy()\n",
        "LOGGER.info(ARGS)\n",
        "for fold in range(0, ARGS['n_fold']):\n",
        "    print(f\"{y_}====== Fold: {fold} ======{sr_}\")\n",
        "    LOGGER.info(f\"========== fold: {fold} training ==========\")\n",
        "\n",
        "    # Create Dataloaders\n",
        "    train_loader, valid_loader = prepare_loaders(args=ARGS, train=train, image_transform=image_transform, fold=fold)\n",
        "\n",
        "    model = create_model(ARGS)\n",
        "    model = model.to(ARGS[\"device\"])\n",
        "\n",
        "    #損失関数・最適化関数の定義\n",
        "    optimizer = fetch_optimizer(model.parameters(), optimizer_name=ARGS[\"optimizer\"], lr=ARGS[\"learning_rate\"], betas=(0.9, 0.999))\n",
        "\n",
        "    scheduler = fetch_scheduler(args=ARGS, train_size=len(train_loader), optimizer=optimizer)\n",
        "\n",
        "    model, predictions, targets = one_fold(model, optimizer, scheduler, device=ARGS[\"device\"], num_epochs=ARGS[\"epochs\"], fold=fold)\n",
        "\n",
        "    train_copy.loc[train_copy[train_copy.kfold == fold].index, \"oof\"] = predictions\n",
        "\n",
        "    del model, train_loader, valid_loader\n",
        "    _ = gc.collect()\n",
        "    torch.cuda.empty_cache()\n",
        "    print()\n",
        "\n",
        "scores = roc_auc_score(train_copy[\"label\"].values, train_copy[\"oof\"].values)\n",
        "LOGGER.info(f\"========== CV ==========\")\n",
        "LOGGER.info(f\"CV: {scores:.4f}\")"
      ],
      "metadata": {
        "colab": {
          "base_uri": "https://localhost:8080/"
        },
        "id": "NooSdD4lwJ1v",
        "outputId": "5b65c975-d4fc-4c23-da91-0eb7ec71ffa8"
      },
      "execution_count": null,
      "outputs": [
        {
          "output_type": "stream",
          "name": "stderr",
          "text": [
            "INFO:__main__:{'DATA_DIR': '/content/drive/MyDrive/Colab Notebooks/SIGNATE/TechnoPro/dataset', 'OUT_DIR': './', 'model_name': 'vit_l_16', 'n_fold': 5, 'epochs': 10, 'criterion': 'CrossEntropy', 'image_size': (224, 224), 'train_batch_size': 16, 'test_batch_size': 32, 'seed': 42, 'optimizer': 'AdamW', 'learning_rate': 0.0001, 'scheduler': 'CosineAnnealingLR', 'min_lr': 1e-06, 'T_max': 10, 'n_accumulate': 1, 'clip_grad_norm': 'None', 'apex': True, 'num_classes': 2, 'device': device(type='cuda', index=0)}\n",
            "INFO:__main__:========== fold: 0 training ==========\n"
          ]
        },
        {
          "output_type": "stream",
          "name": "stdout",
          "text": [
            "\u001b[33m====== Fold: 0 ======\u001b[0m\n"
          ]
        },
        {
          "output_type": "stream",
          "name": "stderr",
          "text": [
            "Downloading: \"https://download.pytorch.org/models/vit_l_16-852ce7e3.pth\" to /root/.cache/torch/hub/checkpoints/vit_l_16-852ce7e3.pth\n",
            "100%|██████████| 1.13G/1.13G [00:06<00:00, 197MB/s]\n"
          ]
        },
        {
          "output_type": "stream",
          "name": "stdout",
          "text": [
            "[INFO] Using GPU: Tesla T4\n",
            "\n"
          ]
        },
        {
          "output_type": "stream",
          "name": "stderr",
          "text": [
            "100%|██████████| 108/108 [02:15<00:00,  1.26s/it, Epoch=1, LR=1.05e-5, Train_Acc=0.758, Train_Auc=0.826, Train_Loss=0.503]\n",
            "  0%|          | 0/14 [00:36<?, ?it/s, Epoch=1, LR=1.05e-5, Valid_Acc=0.817, Valid_Auc=0.929, Valid_Loss=0.404]\n",
            "INFO:__main__:Epoch 1 - avg_train_loss: 0.5029  avg_val_loss: 0.4036\n",
            "INFO:__main__:Epoch 1 - Train Acc: 0.7575  Train Auc: 0.8264  Valid Acc: 0.8165  Valid Auc: 0.9290\n"
          ]
        },
        {
          "output_type": "stream",
          "name": "stdout",
          "text": [
            "\u001b[34mValidation Score Improved (inf ---> 0.9290121493543667)\n",
            "Model Saved\u001b[0m\n"
          ]
        },
        {
          "output_type": "stream",
          "name": "stderr",
          "text": [
            "100%|██████████| 108/108 [01:04<00:00,  1.69it/s, Epoch=2, LR=6.58e-5, Train_Acc=0.959, Train_Auc=0.989, Train_Loss=0.115]\n",
            "  0%|          | 0/14 [00:18<?, ?it/s, Epoch=2, LR=6.58e-5, Valid_Acc=0.846, Valid_Auc=0.928, Valid_Loss=0.472]\n",
            "INFO:__main__:Epoch 2 - avg_train_loss: 0.1146  avg_val_loss: 0.4722\n",
            "INFO:__main__:Epoch 2 - Train Acc: 0.9589  Train Auc: 0.9894  Valid Acc: 0.8463  Valid Auc: 0.9280\n",
            "100%|██████████| 108/108 [01:04<00:00,  1.67it/s, Epoch=3, LR=6.58e-5, Train_Acc=0.979, Train_Auc=0.997, Train_Loss=0.0652]\n",
            "  0%|          | 0/14 [00:18<?, ?it/s, Epoch=3, LR=6.58e-5, Valid_Acc=0.837, Valid_Auc=0.922, Valid_Loss=0.429]\n",
            "INFO:__main__:Epoch 3 - avg_train_loss: 0.0652  avg_val_loss: 0.4287\n",
            "INFO:__main__:Epoch 3 - Train Acc: 0.9786  Train Auc: 0.9972  Valid Acc: 0.8372  Valid Auc: 0.9218\n",
            "100%|██████████| 108/108 [01:03<00:00,  1.69it/s, Epoch=4, LR=1.05e-5, Train_Acc=0.996, Train_Auc=1, Train_Loss=0.0155]\n",
            "  0%|          | 0/14 [00:17<?, ?it/s, Epoch=4, LR=1.05e-5, Valid_Acc=0.86, Valid_Auc=0.939, Valid_Loss=0.526]\n",
            "INFO:__main__:Epoch 4 - avg_train_loss: 0.0155  avg_val_loss: 0.5260\n",
            "INFO:__main__:Epoch 4 - Train Acc: 0.9959  Train Auc: 0.9997  Valid Acc: 0.8601  Valid Auc: 0.9389\n"
          ]
        },
        {
          "output_type": "stream",
          "name": "stdout",
          "text": [
            "\u001b[34mValidation Score Improved (0.9290121493543667 ---> 0.938850369993427)\n",
            "Model Saved\u001b[0m\n"
          ]
        },
        {
          "output_type": "stream",
          "name": "stderr",
          "text": [
            "100%|██████████| 108/108 [01:04<00:00,  1.68it/s, Epoch=5, LR=0.0001, Train_Acc=0.997, Train_Auc=1, Train_Loss=0.00784]\n",
            "  0%|          | 0/14 [00:17<?, ?it/s, Epoch=5, LR=0.0001, Valid_Acc=0.837, Valid_Auc=0.936, Valid_Loss=0.603]\n",
            "INFO:__main__:Epoch 5 - avg_train_loss: 0.0078  avg_val_loss: 0.6031\n",
            "INFO:__main__:Epoch 5 - Train Acc: 0.9971  Train Auc: 1.0000  Valid Acc: 0.8372  Valid Auc: 0.9363\n",
            "100%|██████████| 108/108 [01:04<00:00,  1.69it/s, Epoch=6, LR=1.05e-5, Train_Acc=0.989, Train_Auc=0.999, Train_Loss=0.033]\n",
            "  0%|          | 0/14 [00:19<?, ?it/s, Epoch=6, LR=1.05e-5, Valid_Acc=0.849, Valid_Auc=0.942, Valid_Loss=0.615]\n",
            "INFO:__main__:Epoch 6 - avg_train_loss: 0.0330  avg_val_loss: 0.6152\n",
            "INFO:__main__:Epoch 6 - Train Acc: 0.9890  Train Auc: 0.9992  Valid Acc: 0.8486  Valid Auc: 0.9418\n"
          ]
        },
        {
          "output_type": "stream",
          "name": "stdout",
          "text": [
            "\u001b[34mValidation Score Improved (0.938850369993427 ---> 0.9417975955728007)\n",
            "Model Saved\u001b[0m\n"
          ]
        },
        {
          "output_type": "stream",
          "name": "stderr",
          "text": [
            "100%|██████████| 108/108 [01:05<00:00,  1.64it/s, Epoch=7, LR=6.58e-5, Train_Acc=0.979, Train_Auc=0.997, Train_Loss=0.0656]\n",
            "  0%|          | 0/14 [00:17<?, ?it/s, Epoch=7, LR=6.58e-5, Valid_Acc=0.83, Valid_Auc=0.921, Valid_Loss=0.477]\n",
            "INFO:__main__:Epoch 7 - avg_train_loss: 0.0656  avg_val_loss: 0.4773\n",
            "INFO:__main__:Epoch 7 - Train Acc: 0.9786  Train Auc: 0.9966  Valid Acc: 0.8303  Valid Auc: 0.9208\n",
            "100%|██████████| 108/108 [01:04<00:00,  1.68it/s, Epoch=8, LR=6.58e-5, Train_Acc=0.98, Train_Auc=0.998, Train_Loss=0.0542]\n",
            "  0%|          | 0/14 [00:19<?, ?it/s, Epoch=8, LR=6.58e-5, Valid_Acc=0.872, Valid_Auc=0.944, Valid_Loss=0.435]\n",
            "INFO:__main__:Epoch 8 - avg_train_loss: 0.0542  avg_val_loss: 0.4353\n",
            "INFO:__main__:Epoch 8 - Train Acc: 0.9803  Train Auc: 0.9981  Valid Acc: 0.8716  Valid Auc: 0.9435\n"
          ]
        },
        {
          "output_type": "stream",
          "name": "stdout",
          "text": [
            "\u001b[34mValidation Score Improved (0.9417975955728007 ---> 0.9435150435722918)\n",
            "Model Saved\u001b[0m\n"
          ]
        },
        {
          "output_type": "stream",
          "name": "stderr",
          "text": [
            "100%|██████████| 108/108 [01:04<00:00,  1.68it/s, Epoch=9, LR=1.05e-5, Train_Acc=0.992, Train_Auc=1, Train_Loss=0.0187]\n",
            "  0%|          | 0/14 [00:17<?, ?it/s, Epoch=9, LR=1.05e-5, Valid_Acc=0.83, Valid_Auc=0.947, Valid_Loss=0.664]\n",
            "INFO:__main__:Epoch 9 - avg_train_loss: 0.0187  avg_val_loss: 0.6636\n",
            "INFO:__main__:Epoch 9 - Train Acc: 0.9919  Train Auc: 0.9998  Valid Acc: 0.8303  Valid Auc: 0.9470\n"
          ]
        },
        {
          "output_type": "stream",
          "name": "stdout",
          "text": [
            "\u001b[34mValidation Score Improved (0.9435150435722918 ---> 0.9470135487564404)\n",
            "Model Saved\u001b[0m\n"
          ]
        },
        {
          "output_type": "stream",
          "name": "stderr",
          "text": [
            "100%|██████████| 108/108 [01:03<00:00,  1.69it/s, Epoch=10, LR=0.0001, Train_Acc=0.994, Train_Auc=1, Train_Loss=0.0171]\n",
            "  0%|          | 0/14 [00:17<?, ?it/s, Epoch=10, LR=0.0001, Valid_Acc=0.817, Valid_Auc=0.931, Valid_Loss=1.2]\n",
            "INFO:__main__:Epoch 10 - avg_train_loss: 0.0171  avg_val_loss: 1.2019\n",
            "INFO:__main__:Epoch 10 - Train Acc: 0.9936  Train Auc: 0.9998  Valid Acc: 0.8165  Valid Auc: 0.9310\n",
            "INFO:__main__:Training complete in 0h 16m 5s\n",
            "INFO:__main__:Best Score: 0.9470\n",
            "INFO:__main__:========== fold: 1 training ==========\n"
          ]
        },
        {
          "output_type": "stream",
          "name": "stdout",
          "text": [
            "\n",
            "\u001b[33m====== Fold: 1 ======\u001b[0m\n",
            "[INFO] Using GPU: Tesla T4\n",
            "\n"
          ]
        },
        {
          "output_type": "stream",
          "name": "stderr",
          "text": [
            "100%|██████████| 108/108 [01:06<00:00,  1.63it/s, Epoch=1, LR=1.05e-5, Train_Acc=0.723, Train_Auc=0.785, Train_Loss=0.558]\n",
            "  0%|          | 0/14 [00:19<?, ?it/s, Epoch=1, LR=1.05e-5, Valid_Acc=0.811, Valid_Auc=0.931, Valid_Loss=0.379]\n",
            "INFO:__main__:Epoch 1 - avg_train_loss: 0.5583  avg_val_loss: 0.3789\n",
            "INFO:__main__:Epoch 1 - Train Acc: 0.7228  Train Auc: 0.7852  Valid Acc: 0.8115  Valid Auc: 0.9308\n"
          ]
        },
        {
          "output_type": "stream",
          "name": "stdout",
          "text": [
            "\u001b[34mValidation Score Improved (inf ---> 0.9307554722766375)\n",
            "Model Saved\u001b[0m\n"
          ]
        },
        {
          "output_type": "stream",
          "name": "stderr",
          "text": [
            "100%|██████████| 108/108 [01:05<00:00,  1.65it/s, Epoch=2, LR=6.58e-5, Train_Acc=0.94, Train_Auc=0.987, Train_Loss=0.141]\n",
            "  0%|          | 0/14 [00:19<?, ?it/s, Epoch=2, LR=6.58e-5, Valid_Acc=0.867, Valid_Auc=0.946, Valid_Loss=0.354]\n",
            "INFO:__main__:Epoch 2 - avg_train_loss: 0.1408  avg_val_loss: 0.3543\n",
            "INFO:__main__:Epoch 2 - Train Acc: 0.9398  Train Auc: 0.9869  Valid Acc: 0.8667  Valid Auc: 0.9460\n"
          ]
        },
        {
          "output_type": "stream",
          "name": "stdout",
          "text": [
            "\u001b[34mValidation Score Improved (0.9307554722766375 ---> 0.9459586065922835)\n",
            "Model Saved\u001b[0m\n"
          ]
        },
        {
          "output_type": "stream",
          "name": "stderr",
          "text": [
            "100%|██████████| 108/108 [01:05<00:00,  1.64it/s, Epoch=3, LR=6.58e-5, Train_Acc=0.977, Train_Auc=0.996, Train_Loss=0.0727]\n",
            "  0%|          | 0/14 [00:17<?, ?it/s, Epoch=3, LR=6.58e-5, Valid_Acc=0.86, Valid_Auc=0.946, Valid_Loss=0.356]\n",
            "INFO:__main__:Epoch 3 - avg_train_loss: 0.0727  avg_val_loss: 0.3556\n",
            "INFO:__main__:Epoch 3 - Train Acc: 0.9774  Train Auc: 0.9963  Valid Acc: 0.8598  Valid Auc: 0.9456\n",
            "100%|██████████| 108/108 [01:04<00:00,  1.68it/s, Epoch=4, LR=1.05e-5, Train_Acc=0.993, Train_Auc=0.999, Train_Loss=0.0231]\n",
            "  0%|          | 0/14 [00:20<?, ?it/s, Epoch=4, LR=1.05e-5, Valid_Acc=0.92, Valid_Auc=0.969, Valid_Loss=0.338]\n",
            "INFO:__main__:Epoch 4 - avg_train_loss: 0.0231  avg_val_loss: 0.3382\n",
            "INFO:__main__:Epoch 4 - Train Acc: 0.9931  Train Auc: 0.9995  Valid Acc: 0.9195  Valid Auc: 0.9694\n"
          ]
        },
        {
          "output_type": "stream",
          "name": "stdout",
          "text": [
            "\u001b[34mValidation Score Improved (0.9459586065922835 ---> 0.969412741674474)\n",
            "Model Saved\u001b[0m\n"
          ]
        },
        {
          "output_type": "stream",
          "name": "stderr",
          "text": [
            "100%|██████████| 108/108 [01:04<00:00,  1.67it/s, Epoch=5, LR=0.0001, Train_Acc=0.994, Train_Auc=1, Train_Loss=0.0171]\n",
            "  0%|          | 0/14 [00:17<?, ?it/s, Epoch=5, LR=0.0001, Valid_Acc=0.892, Valid_Auc=0.961, Valid_Loss=0.34]\n",
            "INFO:__main__:Epoch 5 - avg_train_loss: 0.0171  avg_val_loss: 0.3395\n",
            "INFO:__main__:Epoch 5 - Train Acc: 0.9936  Train Auc: 0.9998  Valid Acc: 0.8920  Valid Auc: 0.9613\n",
            "100%|██████████| 108/108 [01:04<00:00,  1.68it/s, Epoch=6, LR=1.05e-5, Train_Acc=0.985, Train_Auc=0.998, Train_Loss=0.0491]\n",
            "  0%|          | 0/14 [00:18<?, ?it/s, Epoch=6, LR=1.05e-5, Valid_Acc=0.885, Valid_Auc=0.95, Valid_Loss=0.436]\n",
            "INFO:__main__:Epoch 6 - avg_train_loss: 0.0491  avg_val_loss: 0.4361\n",
            "INFO:__main__:Epoch 6 - Train Acc: 0.9850  Train Auc: 0.9977  Valid Acc: 0.8851  Valid Auc: 0.9499\n",
            "100%|██████████| 108/108 [01:04<00:00,  1.68it/s, Epoch=7, LR=6.58e-5, Train_Acc=0.978, Train_Auc=0.998, Train_Loss=0.0564]\n",
            "  0%|          | 0/14 [00:18<?, ?it/s, Epoch=7, LR=6.58e-5, Valid_Acc=0.894, Valid_Auc=0.96, Valid_Loss=0.299]\n",
            "INFO:__main__:Epoch 7 - avg_train_loss: 0.0564  avg_val_loss: 0.2987\n",
            "INFO:__main__:Epoch 7 - Train Acc: 0.9780  Train Auc: 0.9982  Valid Acc: 0.8943  Valid Auc: 0.9603\n",
            "100%|██████████| 108/108 [01:03<00:00,  1.69it/s, Epoch=8, LR=6.58e-5, Train_Acc=0.966, Train_Auc=0.994, Train_Loss=0.101]\n",
            "  0%|          | 0/14 [00:18<?, ?it/s, Epoch=8, LR=6.58e-5, Valid_Acc=0.883, Valid_Auc=0.957, Valid_Loss=0.375]\n",
            "INFO:__main__:Epoch 8 - avg_train_loss: 0.1006  avg_val_loss: 0.3752\n",
            "INFO:__main__:Epoch 8 - Train Acc: 0.9659  Train Auc: 0.9942  Valid Acc: 0.8828  Valid Auc: 0.9569\n",
            "100%|██████████| 108/108 [01:04<00:00,  1.67it/s, Epoch=9, LR=1.05e-5, Train_Acc=0.992, Train_Auc=0.999, Train_Loss=0.0274]\n",
            "  0%|          | 0/14 [00:18<?, ?it/s, Epoch=9, LR=1.05e-5, Valid_Acc=0.922, Valid_Auc=0.972, Valid_Loss=0.294]\n",
            "INFO:__main__:Epoch 9 - avg_train_loss: 0.0274  avg_val_loss: 0.2936\n",
            "INFO:__main__:Epoch 9 - Train Acc: 0.9919  Train Auc: 0.9992  Valid Acc: 0.9218  Valid Auc: 0.9720\n"
          ]
        },
        {
          "output_type": "stream",
          "name": "stdout",
          "text": [
            "\u001b[34mValidation Score Improved (0.969412741674474 ---> 0.9719572438463504)\n",
            "Model Saved\u001b[0m\n"
          ]
        },
        {
          "output_type": "stream",
          "name": "stderr",
          "text": [
            "100%|██████████| 108/108 [01:04<00:00,  1.68it/s, Epoch=10, LR=0.0001, Train_Acc=1, Train_Auc=1, Train_Loss=0.000984]\n",
            "  0%|          | 0/14 [00:17<?, ?it/s, Epoch=10, LR=0.0001, Valid_Acc=0.926, Valid_Auc=0.976, Valid_Loss=0.323]\n",
            "INFO:__main__:Epoch 10 - avg_train_loss: 0.0010  avg_val_loss: 0.3234\n",
            "INFO:__main__:Epoch 10 - Train Acc: 1.0000  Train Auc: 1.0000  Valid Acc: 0.9264  Valid Auc: 0.9760\n"
          ]
        },
        {
          "output_type": "stream",
          "name": "stdout",
          "text": [
            "\u001b[34mValidation Score Improved (0.9719572438463504 ---> 0.9759816029299038)\n"
          ]
        },
        {
          "output_type": "stream",
          "name": "stderr",
          "text": [
            "INFO:__main__:Training complete in 0h 14m 43s\n",
            "INFO:__main__:Best Score: 0.9760\n"
          ]
        },
        {
          "output_type": "stream",
          "name": "stdout",
          "text": [
            "Model Saved\u001b[0m\n"
          ]
        },
        {
          "output_type": "stream",
          "name": "stderr",
          "text": [
            "INFO:__main__:========== fold: 2 training ==========\n"
          ]
        },
        {
          "output_type": "stream",
          "name": "stdout",
          "text": [
            "\n",
            "\u001b[33m====== Fold: 2 ======\u001b[0m\n",
            "[INFO] Using GPU: Tesla T4\n",
            "\n"
          ]
        },
        {
          "output_type": "stream",
          "name": "stderr",
          "text": [
            "100%|██████████| 108/108 [01:05<00:00,  1.64it/s, Epoch=1, LR=1.05e-5, Train_Acc=0.758, Train_Auc=0.828, Train_Loss=0.498]\n",
            "  0%|          | 0/14 [00:18<?, ?it/s, Epoch=1, LR=1.05e-5, Valid_Acc=0.837, Valid_Auc=0.927, Valid_Loss=0.362]\n",
            "INFO:__main__:Epoch 1 - avg_train_loss: 0.4983  avg_val_loss: 0.3623\n",
            "INFO:__main__:Epoch 1 - Train Acc: 0.7575  Train Auc: 0.8283  Valid Acc: 0.8368  Valid Auc: 0.9274\n"
          ]
        },
        {
          "output_type": "stream",
          "name": "stdout",
          "text": [
            "\u001b[34mValidation Score Improved (inf ---> 0.9273911932544077)\n",
            "Model Saved\u001b[0m\n"
          ]
        },
        {
          "output_type": "stream",
          "name": "stderr",
          "text": [
            "100%|██████████| 108/108 [01:06<00:00,  1.63it/s, Epoch=2, LR=6.58e-5, Train_Acc=0.956, Train_Auc=0.989, Train_Loss=0.12]\n",
            "  0%|          | 0/14 [00:18<?, ?it/s, Epoch=2, LR=6.58e-5, Valid_Acc=0.878, Valid_Auc=0.955, Valid_Loss=0.304]\n",
            "INFO:__main__:Epoch 2 - avg_train_loss: 0.1199  avg_val_loss: 0.3038\n",
            "INFO:__main__:Epoch 2 - Train Acc: 0.9560  Train Auc: 0.9895  Valid Acc: 0.8782  Valid Auc: 0.9551\n"
          ]
        },
        {
          "output_type": "stream",
          "name": "stdout",
          "text": [
            "\u001b[34mValidation Score Improved (0.9273911932544077 ---> 0.9550932629247935)\n",
            "Model Saved\u001b[0m\n"
          ]
        },
        {
          "output_type": "stream",
          "name": "stderr",
          "text": [
            "100%|██████████| 108/108 [01:05<00:00,  1.66it/s, Epoch=3, LR=6.58e-5, Train_Acc=0.986, Train_Auc=0.999, Train_Loss=0.0412]\n",
            "  0%|          | 0/14 [00:17<?, ?it/s, Epoch=3, LR=6.58e-5, Valid_Acc=0.844, Valid_Auc=0.917, Valid_Loss=0.815]\n",
            "INFO:__main__:Epoch 3 - avg_train_loss: 0.0412  avg_val_loss: 0.8153\n",
            "INFO:__main__:Epoch 3 - Train Acc: 0.9861  Train Auc: 0.9988  Valid Acc: 0.8437  Valid Auc: 0.9173\n",
            "100%|██████████| 108/108 [01:04<00:00,  1.67it/s, Epoch=4, LR=1.05e-5, Train_Acc=0.983, Train_Auc=0.996, Train_Loss=0.0606]\n",
            "  0%|          | 0/14 [00:18<?, ?it/s, Epoch=4, LR=1.05e-5, Valid_Acc=0.832, Valid_Auc=0.921, Valid_Loss=0.606]\n",
            "INFO:__main__:Epoch 4 - avg_train_loss: 0.0606  avg_val_loss: 0.6057\n",
            "INFO:__main__:Epoch 4 - Train Acc: 0.9826  Train Auc: 0.9965  Valid Acc: 0.8322  Valid Auc: 0.9214\n",
            "100%|██████████| 108/108 [01:04<00:00,  1.68it/s, Epoch=5, LR=0.0001, Train_Acc=0.988, Train_Auc=0.999, Train_Loss=0.0323]\n",
            "  0%|          | 0/14 [00:20<?, ?it/s, Epoch=5, LR=0.0001, Valid_Acc=0.874, Valid_Auc=0.953, Valid_Loss=0.492]\n",
            "INFO:__main__:Epoch 5 - avg_train_loss: 0.0323  avg_val_loss: 0.4916\n",
            "INFO:__main__:Epoch 5 - Train Acc: 0.9878  Train Auc: 0.9991  Valid Acc: 0.8736  Valid Auc: 0.9531\n",
            "100%|██████████| 108/108 [01:05<00:00,  1.66it/s, Epoch=6, LR=1.05e-5, Train_Acc=0.981, Train_Auc=0.997, Train_Loss=0.0621]\n",
            "  0%|          | 0/14 [00:18<?, ?it/s, Epoch=6, LR=1.05e-5, Valid_Acc=0.832, Valid_Auc=0.906, Valid_Loss=0.587]\n",
            "INFO:__main__:Epoch 6 - avg_train_loss: 0.0621  avg_val_loss: 0.5868\n",
            "INFO:__main__:Epoch 6 - Train Acc: 0.9809  Train Auc: 0.9970  Valid Acc: 0.8322  Valid Auc: 0.9064\n",
            "100%|██████████| 108/108 [01:04<00:00,  1.68it/s, Epoch=7, LR=6.58e-5, Train_Acc=0.99, Train_Auc=0.999, Train_Loss=0.0357]\n",
            "  0%|          | 0/14 [00:18<?, ?it/s, Epoch=7, LR=6.58e-5, Valid_Acc=0.876, Valid_Auc=0.945, Valid_Loss=0.463]\n",
            "INFO:__main__:Epoch 7 - avg_train_loss: 0.0357  avg_val_loss: 0.4629\n",
            "INFO:__main__:Epoch 7 - Train Acc: 0.9896  Train Auc: 0.9989  Valid Acc: 0.8759  Valid Auc: 0.9447\n",
            "100%|██████████| 108/108 [01:03<00:00,  1.69it/s, Epoch=8, LR=6.58e-5, Train_Acc=0.987, Train_Auc=0.999, Train_Loss=0.032]\n",
            "  0%|          | 0/14 [00:18<?, ?it/s, Epoch=8, LR=6.58e-5, Valid_Acc=0.821, Valid_Auc=0.924, Valid_Loss=0.618]\n",
            "INFO:__main__:Epoch 8 - avg_train_loss: 0.0320  avg_val_loss: 0.6178\n",
            "INFO:__main__:Epoch 8 - Train Acc: 0.9873  Train Auc: 0.9993  Valid Acc: 0.8207  Valid Auc: 0.9238\n",
            "100%|██████████| 108/108 [01:04<00:00,  1.67it/s, Epoch=9, LR=1.05e-5, Train_Acc=0.988, Train_Auc=0.999, Train_Loss=0.0361]\n",
            "  0%|          | 0/14 [00:18<?, ?it/s, Epoch=9, LR=1.05e-5, Valid_Acc=0.876, Valid_Auc=0.943, Valid_Loss=0.41]\n",
            "INFO:__main__:Epoch 9 - avg_train_loss: 0.0361  avg_val_loss: 0.4104\n",
            "INFO:__main__:Epoch 9 - Train Acc: 0.9884  Train Auc: 0.9992  Valid Acc: 0.8759  Valid Auc: 0.9428\n",
            "100%|██████████| 108/108 [01:03<00:00,  1.69it/s, Epoch=10, LR=0.0001, Train_Acc=0.993, Train_Auc=1, Train_Loss=0.019]\n",
            "  0%|          | 0/14 [00:19<?, ?it/s, Epoch=10, LR=0.0001, Valid_Acc=0.772, Valid_Auc=0.931, Valid_Loss=1.02]\n",
            "INFO:__main__:Epoch 10 - avg_train_loss: 0.0190  avg_val_loss: 1.0187\n",
            "INFO:__main__:Epoch 10 - Train Acc: 0.9931  Train Auc: 0.9997  Valid Acc: 0.7724  Valid Auc: 0.9307\n",
            "INFO:__main__:Training complete in 0h 14m 19s\n",
            "INFO:__main__:Best Score: 0.9551\n",
            "INFO:__main__:========== fold: 3 training ==========\n"
          ]
        },
        {
          "output_type": "stream",
          "name": "stdout",
          "text": [
            "\n",
            "\u001b[33m====== Fold: 3 ======\u001b[0m\n",
            "[INFO] Using GPU: Tesla T4\n",
            "\n"
          ]
        },
        {
          "output_type": "stream",
          "name": "stderr",
          "text": [
            "100%|██████████| 108/108 [01:06<00:00,  1.64it/s, Epoch=1, LR=1.05e-5, Train_Acc=0.75, Train_Auc=0.83, Train_Loss=0.496]\n",
            "  0%|          | 0/14 [00:18<?, ?it/s, Epoch=1, LR=1.05e-5, Valid_Acc=0.69, Valid_Auc=0.861, Valid_Loss=0.588]\n",
            "INFO:__main__:Epoch 1 - avg_train_loss: 0.4962  avg_val_loss: 0.5877\n",
            "INFO:__main__:Epoch 1 - Train Acc: 0.7500  Train Auc: 0.8299  Valid Acc: 0.6897  Valid Auc: 0.8606\n"
          ]
        },
        {
          "output_type": "stream",
          "name": "stdout",
          "text": [
            "\u001b[34mValidation Score Improved (inf ---> 0.8606379354399114)\n",
            "Model Saved\u001b[0m\n"
          ]
        },
        {
          "output_type": "stream",
          "name": "stderr",
          "text": [
            "100%|██████████| 108/108 [01:05<00:00,  1.65it/s, Epoch=2, LR=6.58e-5, Train_Acc=0.956, Train_Auc=0.988, Train_Loss=0.133]\n",
            "  0%|          | 0/14 [00:17<?, ?it/s, Epoch=2, LR=6.58e-5, Valid_Acc=0.848, Valid_Auc=0.938, Valid_Loss=0.349]\n",
            "INFO:__main__:Epoch 2 - avg_train_loss: 0.1329  avg_val_loss: 0.3486\n",
            "INFO:__main__:Epoch 2 - Train Acc: 0.9560  Train Auc: 0.9881  Valid Acc: 0.8483  Valid Auc: 0.9382\n"
          ]
        },
        {
          "output_type": "stream",
          "name": "stdout",
          "text": [
            "\u001b[34mValidation Score Improved (0.8606379354399114 ---> 0.9382079890980325)\n",
            "Model Saved\u001b[0m\n"
          ]
        },
        {
          "output_type": "stream",
          "name": "stderr",
          "text": [
            "100%|██████████| 108/108 [01:05<00:00,  1.64it/s, Epoch=3, LR=6.58e-5, Train_Acc=0.975, Train_Auc=0.997, Train_Loss=0.0659]\n",
            "  0%|          | 0/14 [00:17<?, ?it/s, Epoch=3, LR=6.58e-5, Valid_Acc=0.878, Valid_Auc=0.943, Valid_Loss=0.343]\n",
            "INFO:__main__:Epoch 3 - avg_train_loss: 0.0659  avg_val_loss: 0.3426\n",
            "INFO:__main__:Epoch 3 - Train Acc: 0.9751  Train Auc: 0.9969  Valid Acc: 0.8782  Valid Auc: 0.9426\n"
          ]
        },
        {
          "output_type": "stream",
          "name": "stdout",
          "text": [
            "\u001b[34mValidation Score Improved (0.9382079890980325 ---> 0.9425943275700537)\n",
            "Model Saved\u001b[0m\n"
          ]
        },
        {
          "output_type": "stream",
          "name": "stderr",
          "text": [
            "100%|██████████| 108/108 [01:04<00:00,  1.67it/s, Epoch=4, LR=1.05e-5, Train_Acc=0.991, Train_Auc=0.999, Train_Loss=0.032]\n",
            "  0%|          | 0/14 [00:18<?, ?it/s, Epoch=4, LR=1.05e-5, Valid_Acc=0.871, Valid_Auc=0.937, Valid_Loss=0.408]\n",
            "INFO:__main__:Epoch 4 - avg_train_loss: 0.0320  avg_val_loss: 0.4075\n",
            "INFO:__main__:Epoch 4 - Train Acc: 0.9907  Train Auc: 0.9994  Valid Acc: 0.8713  Valid Auc: 0.9372\n",
            "100%|██████████| 108/108 [01:04<00:00,  1.67it/s, Epoch=5, LR=0.0001, Train_Acc=0.986, Train_Auc=0.999, Train_Loss=0.0399]\n",
            "  0%|          | 0/14 [00:17<?, ?it/s, Epoch=5, LR=0.0001, Valid_Acc=0.814, Valid_Auc=0.952, Valid_Loss=0.713]\n",
            "INFO:__main__:Epoch 5 - avg_train_loss: 0.0399  avg_val_loss: 0.7126\n",
            "INFO:__main__:Epoch 5 - Train Acc: 0.9861  Train Auc: 0.9989  Valid Acc: 0.8138  Valid Auc: 0.9521\n"
          ]
        },
        {
          "output_type": "stream",
          "name": "stdout",
          "text": [
            "\u001b[34mValidation Score Improved (0.9425943275700537 ---> 0.9521335491014394)\n",
            "Model Saved\u001b[0m\n"
          ]
        },
        {
          "output_type": "stream",
          "name": "stderr",
          "text": [
            "100%|██████████| 108/108 [01:04<00:00,  1.67it/s, Epoch=6, LR=1.05e-5, Train_Acc=0.986, Train_Auc=0.998, Train_Loss=0.0395]\n",
            "  0%|          | 0/14 [00:17<?, ?it/s, Epoch=6, LR=1.05e-5, Valid_Acc=0.894, Valid_Auc=0.952, Valid_Loss=0.393]\n",
            "INFO:__main__:Epoch 6 - avg_train_loss: 0.0395  avg_val_loss: 0.3932\n",
            "INFO:__main__:Epoch 6 - Train Acc: 0.9861  Train Auc: 0.9983  Valid Acc: 0.8943  Valid Auc: 0.9522\n"
          ]
        },
        {
          "output_type": "stream",
          "name": "stdout",
          "text": [
            "\u001b[34mValidation Score Improved (0.9521335491014394 ---> 0.9521974278170514)\n",
            "Model Saved\u001b[0m\n"
          ]
        },
        {
          "output_type": "stream",
          "name": "stderr",
          "text": [
            "100%|██████████| 108/108 [01:04<00:00,  1.66it/s, Epoch=7, LR=6.58e-5, Train_Acc=0.99, Train_Auc=0.999, Train_Loss=0.0322]\n",
            "  0%|          | 0/14 [00:17<?, ?it/s, Epoch=7, LR=6.58e-5, Valid_Acc=0.894, Valid_Auc=0.957, Valid_Loss=0.36]\n",
            "INFO:__main__:Epoch 7 - avg_train_loss: 0.0322  avg_val_loss: 0.3598\n",
            "INFO:__main__:Epoch 7 - Train Acc: 0.9896  Train Auc: 0.9992  Valid Acc: 0.8943  Valid Auc: 0.9573\n"
          ]
        },
        {
          "output_type": "stream",
          "name": "stdout",
          "text": [
            "\u001b[34mValidation Score Improved (0.9521974278170514 ---> 0.957286432160804)\n",
            "Model Saved\u001b[0m\n"
          ]
        },
        {
          "output_type": "stream",
          "name": "stderr",
          "text": [
            "100%|██████████| 108/108 [01:04<00:00,  1.67it/s, Epoch=8, LR=6.58e-5, Train_Acc=0.988, Train_Auc=0.999, Train_Loss=0.0335]\n",
            "  0%|          | 0/14 [00:17<?, ?it/s, Epoch=8, LR=6.58e-5, Valid_Acc=0.869, Valid_Auc=0.944, Valid_Loss=0.597]\n",
            "INFO:__main__:Epoch 8 - avg_train_loss: 0.0335  avg_val_loss: 0.5970\n",
            "INFO:__main__:Epoch 8 - Train Acc: 0.9884  Train Auc: 0.9993  Valid Acc: 0.8690  Valid Auc: 0.9443\n",
            "100%|██████████| 108/108 [01:03<00:00,  1.70it/s, Epoch=9, LR=1.05e-5, Train_Acc=0.995, Train_Auc=1, Train_Loss=0.0156]\n",
            "  0%|          | 0/14 [00:19<?, ?it/s, Epoch=9, LR=1.05e-5, Valid_Acc=0.887, Valid_Auc=0.962, Valid_Loss=0.381]\n",
            "INFO:__main__:Epoch 9 - avg_train_loss: 0.0156  avg_val_loss: 0.3806\n",
            "INFO:__main__:Epoch 9 - Train Acc: 0.9948  Train Auc: 0.9998  Valid Acc: 0.8874  Valid Auc: 0.9622\n"
          ]
        },
        {
          "output_type": "stream",
          "name": "stdout",
          "text": [
            "\u001b[34mValidation Score Improved (0.957286432160804 ---> 0.9621838003577209)\n",
            "Model Saved\u001b[0m\n"
          ]
        },
        {
          "output_type": "stream",
          "name": "stderr",
          "text": [
            "100%|██████████| 108/108 [01:04<00:00,  1.68it/s, Epoch=10, LR=0.0001, Train_Acc=1, Train_Auc=1, Train_Loss=0.000183]\n",
            "  0%|          | 0/14 [00:18<?, ?it/s, Epoch=10, LR=0.0001, Valid_Acc=0.897, Valid_Auc=0.964, Valid_Loss=0.39]\n",
            "INFO:__main__:Epoch 10 - avg_train_loss: 0.0002  avg_val_loss: 0.3898\n",
            "INFO:__main__:Epoch 10 - Train Acc: 1.0000  Train Auc: 1.0000  Valid Acc: 0.8966  Valid Auc: 0.9641\n"
          ]
        },
        {
          "output_type": "stream",
          "name": "stdout",
          "text": [
            "\u001b[34mValidation Score Improved (0.9621838003577209 ---> 0.9641214547312836)\n"
          ]
        },
        {
          "output_type": "stream",
          "name": "stderr",
          "text": [
            "INFO:__main__:Training complete in 0h 15m 1s\n",
            "INFO:__main__:Best Score: 0.9641\n"
          ]
        },
        {
          "output_type": "stream",
          "name": "stdout",
          "text": [
            "Model Saved\u001b[0m\n"
          ]
        },
        {
          "output_type": "stream",
          "name": "stderr",
          "text": [
            "INFO:__main__:========== fold: 4 training ==========\n"
          ]
        },
        {
          "output_type": "stream",
          "name": "stdout",
          "text": [
            "\n",
            "\u001b[33m====== Fold: 4 ======\u001b[0m\n",
            "[INFO] Using GPU: Tesla T4\n",
            "\n"
          ]
        },
        {
          "output_type": "stream",
          "name": "stderr",
          "text": [
            "100%|██████████| 108/108 [01:06<00:00,  1.63it/s, Epoch=1, LR=1.05e-5, Train_Acc=0.731, Train_Auc=0.786, Train_Loss=0.555]\n",
            "  0%|          | 0/14 [00:17<?, ?it/s, Epoch=1, LR=1.05e-5, Valid_Acc=0.816, Valid_Auc=0.921, Valid_Loss=0.384]\n",
            "INFO:__main__:Epoch 1 - avg_train_loss: 0.5548  avg_val_loss: 0.3838\n",
            "INFO:__main__:Epoch 1 - Train Acc: 0.7315  Train Auc: 0.7864  Valid Acc: 0.8161  Valid Auc: 0.9214\n"
          ]
        },
        {
          "output_type": "stream",
          "name": "stdout",
          "text": [
            "\u001b[34mValidation Score Improved (inf ---> 0.921429484720624)\n",
            "Model Saved\u001b[0m\n"
          ]
        },
        {
          "output_type": "stream",
          "name": "stderr",
          "text": [
            "100%|██████████| 108/108 [01:05<00:00,  1.65it/s, Epoch=2, LR=6.58e-5, Train_Acc=0.953, Train_Auc=0.989, Train_Loss=0.127]\n",
            "  0%|          | 0/14 [00:19<?, ?it/s, Epoch=2, LR=6.58e-5, Valid_Acc=0.906, Valid_Auc=0.963, Valid_Loss=0.278]\n",
            "INFO:__main__:Epoch 2 - avg_train_loss: 0.1267  avg_val_loss: 0.2776\n",
            "INFO:__main__:Epoch 2 - Train Acc: 0.9525  Train Auc: 0.9887  Valid Acc: 0.9057  Valid Auc: 0.9626\n"
          ]
        },
        {
          "output_type": "stream",
          "name": "stdout",
          "text": [
            "\u001b[34mValidation Score Improved (0.921429484720624 ---> 0.9625580701530069)\n",
            "Model Saved\u001b[0m\n"
          ]
        },
        {
          "output_type": "stream",
          "name": "stderr",
          "text": [
            "100%|██████████| 108/108 [01:04<00:00,  1.67it/s, Epoch=3, LR=6.58e-5, Train_Acc=0.975, Train_Auc=0.997, Train_Loss=0.0674]\n",
            "  0%|          | 0/14 [00:18<?, ?it/s, Epoch=3, LR=6.58e-5, Valid_Acc=0.825, Valid_Auc=0.959, Valid_Loss=0.449]\n",
            "INFO:__main__:Epoch 3 - avg_train_loss: 0.0674  avg_val_loss: 0.4490\n",
            "INFO:__main__:Epoch 3 - Train Acc: 0.9751  Train Auc: 0.9970  Valid Acc: 0.8253  Valid Auc: 0.9591\n",
            "100%|██████████| 108/108 [01:04<00:00,  1.68it/s, Epoch=4, LR=1.05e-5, Train_Acc=0.987, Train_Auc=0.999, Train_Loss=0.032]\n",
            "  0%|          | 0/14 [00:18<?, ?it/s, Epoch=4, LR=1.05e-5, Valid_Acc=0.897, Valid_Auc=0.967, Valid_Loss=0.288]\n",
            "INFO:__main__:Epoch 4 - avg_train_loss: 0.0320  avg_val_loss: 0.2879\n",
            "INFO:__main__:Epoch 4 - Train Acc: 0.9867  Train Auc: 0.9994  Valid Acc: 0.8966  Valid Auc: 0.9671\n"
          ]
        },
        {
          "output_type": "stream",
          "name": "stdout",
          "text": [
            "\u001b[34mValidation Score Improved (0.9625580701530069 ---> 0.9670758215062012)\n",
            "Model Saved\u001b[0m\n"
          ]
        },
        {
          "output_type": "stream",
          "name": "stderr",
          "text": [
            "100%|██████████| 108/108 [01:04<00:00,  1.68it/s, Epoch=5, LR=0.0001, Train_Acc=0.992, Train_Auc=1, Train_Loss=0.0208]\n",
            "  0%|          | 0/14 [00:17<?, ?it/s, Epoch=5, LR=0.0001, Valid_Acc=0.874, Valid_Auc=0.948, Valid_Loss=0.447]\n",
            "INFO:__main__:Epoch 5 - avg_train_loss: 0.0208  avg_val_loss: 0.4472\n",
            "INFO:__main__:Epoch 5 - Train Acc: 0.9925  Train Auc: 0.9996  Valid Acc: 0.8736  Valid Auc: 0.9483\n",
            "100%|██████████| 108/108 [01:04<00:00,  1.68it/s, Epoch=6, LR=1.05e-5, Train_Acc=0.99, Train_Auc=0.999, Train_Loss=0.0324]\n",
            "  0%|          | 0/14 [00:18<?, ?it/s, Epoch=6, LR=1.05e-5, Valid_Acc=0.899, Valid_Auc=0.962, Valid_Loss=0.293]\n",
            "INFO:__main__:Epoch 6 - avg_train_loss: 0.0324  avg_val_loss: 0.2934\n",
            "INFO:__main__:Epoch 6 - Train Acc: 0.9902  Train Auc: 0.9990  Valid Acc: 0.8989  Valid Auc: 0.9623\n",
            "100%|██████████| 108/108 [01:03<00:00,  1.69it/s, Epoch=7, LR=6.58e-5, Train_Acc=0.989, Train_Auc=0.999, Train_Loss=0.0319]\n",
            "  0%|          | 0/14 [00:19<?, ?it/s, Epoch=7, LR=6.58e-5, Valid_Acc=0.862, Valid_Auc=0.936, Valid_Loss=0.604]\n",
            "INFO:__main__:Epoch 7 - avg_train_loss: 0.0319  avg_val_loss: 0.6037\n",
            "INFO:__main__:Epoch 7 - Train Acc: 0.9890  Train Auc: 0.9989  Valid Acc: 0.8621  Valid Auc: 0.9361\n",
            "100%|██████████| 108/108 [01:04<00:00,  1.67it/s, Epoch=8, LR=6.58e-5, Train_Acc=0.979, Train_Auc=0.998, Train_Loss=0.0582]\n",
            "  0%|          | 0/14 [00:18<?, ?it/s, Epoch=8, LR=6.58e-5, Valid_Acc=0.871, Valid_Auc=0.948, Valid_Loss=0.386]\n",
            "INFO:__main__:Epoch 8 - avg_train_loss: 0.0582  avg_val_loss: 0.3857\n",
            "INFO:__main__:Epoch 8 - Train Acc: 0.9792  Train Auc: 0.9976  Valid Acc: 0.8713  Valid Auc: 0.9482\n",
            "100%|██████████| 108/108 [01:03<00:00,  1.69it/s, Epoch=9, LR=1.05e-5, Train_Acc=0.994, Train_Auc=1, Train_Loss=0.0183]\n",
            "  0%|          | 0/14 [00:18<?, ?it/s, Epoch=9, LR=1.05e-5, Valid_Acc=0.848, Valid_Auc=0.967, Valid_Loss=0.4]\n",
            "INFO:__main__:Epoch 9 - avg_train_loss: 0.0183  avg_val_loss: 0.4000\n",
            "INFO:__main__:Epoch 9 - Train Acc: 0.9936  Train Auc: 0.9997  Valid Acc: 0.8483  Valid Auc: 0.9671\n",
            "100%|██████████| 108/108 [01:03<00:00,  1.69it/s, Epoch=10, LR=0.0001, Train_Acc=0.995, Train_Auc=1, Train_Loss=0.0162]\n",
            "  0%|          | 0/14 [00:18<?, ?it/s, Epoch=10, LR=0.0001, Valid_Acc=0.908, Valid_Auc=0.976, Valid_Loss=0.311]\n",
            "INFO:__main__:Epoch 10 - avg_train_loss: 0.0162  avg_val_loss: 0.3111\n",
            "INFO:__main__:Epoch 10 - Train Acc: 0.9948  Train Auc: 0.9998  Valid Acc: 0.9080  Valid Auc: 0.9765\n"
          ]
        },
        {
          "output_type": "stream",
          "name": "stdout",
          "text": [
            "\u001b[34mValidation Score Improved (0.9670758215062012 ---> 0.9764735967267613)\n"
          ]
        },
        {
          "output_type": "stream",
          "name": "stderr",
          "text": [
            "INFO:__main__:Training complete in 0h 14m 43s\n",
            "INFO:__main__:Best Score: 0.9765\n"
          ]
        },
        {
          "output_type": "stream",
          "name": "stdout",
          "text": [
            "Model Saved\u001b[0m\n"
          ]
        },
        {
          "output_type": "stream",
          "name": "stderr",
          "text": [
            "INFO:__main__:========== CV ==========\n",
            "INFO:__main__:CV: 0.9549\n"
          ]
        },
        {
          "output_type": "stream",
          "name": "stdout",
          "text": [
            "\n"
          ]
        }
      ]
    },
    {
      "cell_type": "code",
      "source": [
        "# OOF\n",
        "train_copy.to_csv(ARGS['OUT_DIR'] + f'oof.csv', index=False)"
      ],
      "metadata": {
        "id": "xUvK77Xrryqv"
      },
      "execution_count": null,
      "outputs": []
    },
    {
      "cell_type": "code",
      "source": [
        "#sample_submit.csvを読み込みます\n",
        "submit = pd.read_csv(f\"{ARGS['DATA_DIR']}/sample_submit.csv\", header=None)\n",
        "submit.head()"
      ],
      "metadata": {
        "colab": {
          "base_uri": "https://localhost:8080/",
          "height": 206
        },
        "id": "VMnRCq0gr2ik",
        "outputId": "63e22f5e-1bcc-4bd3-a7e2-5b74dc345d69"
      },
      "execution_count": null,
      "outputs": [
        {
          "output_type": "execute_result",
          "data": {
            "text/plain": [
              "          0         1\n",
              "0  2176.png  0.042909\n",
              "1  2177.png  0.912007\n",
              "2  2178.png  0.511360\n",
              "3  2179.png  0.127935\n",
              "4  2180.png  0.119117"
            ],
            "text/html": [
              "\n",
              "  <div id=\"df-7be33189-1352-464b-9b46-25bec84066a4\" class=\"colab-df-container\">\n",
              "    <div>\n",
              "<style scoped>\n",
              "    .dataframe tbody tr th:only-of-type {\n",
              "        vertical-align: middle;\n",
              "    }\n",
              "\n",
              "    .dataframe tbody tr th {\n",
              "        vertical-align: top;\n",
              "    }\n",
              "\n",
              "    .dataframe thead th {\n",
              "        text-align: right;\n",
              "    }\n",
              "</style>\n",
              "<table border=\"1\" class=\"dataframe\">\n",
              "  <thead>\n",
              "    <tr style=\"text-align: right;\">\n",
              "      <th></th>\n",
              "      <th>0</th>\n",
              "      <th>1</th>\n",
              "    </tr>\n",
              "  </thead>\n",
              "  <tbody>\n",
              "    <tr>\n",
              "      <th>0</th>\n",
              "      <td>2176.png</td>\n",
              "      <td>0.042909</td>\n",
              "    </tr>\n",
              "    <tr>\n",
              "      <th>1</th>\n",
              "      <td>2177.png</td>\n",
              "      <td>0.912007</td>\n",
              "    </tr>\n",
              "    <tr>\n",
              "      <th>2</th>\n",
              "      <td>2178.png</td>\n",
              "      <td>0.511360</td>\n",
              "    </tr>\n",
              "    <tr>\n",
              "      <th>3</th>\n",
              "      <td>2179.png</td>\n",
              "      <td>0.127935</td>\n",
              "    </tr>\n",
              "    <tr>\n",
              "      <th>4</th>\n",
              "      <td>2180.png</td>\n",
              "      <td>0.119117</td>\n",
              "    </tr>\n",
              "  </tbody>\n",
              "</table>\n",
              "</div>\n",
              "    <div class=\"colab-df-buttons\">\n",
              "\n",
              "  <div class=\"colab-df-container\">\n",
              "    <button class=\"colab-df-convert\" onclick=\"convertToInteractive('df-7be33189-1352-464b-9b46-25bec84066a4')\"\n",
              "            title=\"Convert this dataframe to an interactive table.\"\n",
              "            style=\"display:none;\">\n",
              "\n",
              "  <svg xmlns=\"http://www.w3.org/2000/svg\" height=\"24px\" viewBox=\"0 -960 960 960\">\n",
              "    <path d=\"M120-120v-720h720v720H120Zm60-500h600v-160H180v160Zm220 220h160v-160H400v160Zm0 220h160v-160H400v160ZM180-400h160v-160H180v160Zm440 0h160v-160H620v160ZM180-180h160v-160H180v160Zm440 0h160v-160H620v160Z\"/>\n",
              "  </svg>\n",
              "    </button>\n",
              "\n",
              "  <style>\n",
              "    .colab-df-container {\n",
              "      display:flex;\n",
              "      gap: 12px;\n",
              "    }\n",
              "\n",
              "    .colab-df-convert {\n",
              "      background-color: #E8F0FE;\n",
              "      border: none;\n",
              "      border-radius: 50%;\n",
              "      cursor: pointer;\n",
              "      display: none;\n",
              "      fill: #1967D2;\n",
              "      height: 32px;\n",
              "      padding: 0 0 0 0;\n",
              "      width: 32px;\n",
              "    }\n",
              "\n",
              "    .colab-df-convert:hover {\n",
              "      background-color: #E2EBFA;\n",
              "      box-shadow: 0px 1px 2px rgba(60, 64, 67, 0.3), 0px 1px 3px 1px rgba(60, 64, 67, 0.15);\n",
              "      fill: #174EA6;\n",
              "    }\n",
              "\n",
              "    .colab-df-buttons div {\n",
              "      margin-bottom: 4px;\n",
              "    }\n",
              "\n",
              "    [theme=dark] .colab-df-convert {\n",
              "      background-color: #3B4455;\n",
              "      fill: #D2E3FC;\n",
              "    }\n",
              "\n",
              "    [theme=dark] .colab-df-convert:hover {\n",
              "      background-color: #434B5C;\n",
              "      box-shadow: 0px 1px 3px 1px rgba(0, 0, 0, 0.15);\n",
              "      filter: drop-shadow(0px 1px 2px rgba(0, 0, 0, 0.3));\n",
              "      fill: #FFFFFF;\n",
              "    }\n",
              "  </style>\n",
              "\n",
              "    <script>\n",
              "      const buttonEl =\n",
              "        document.querySelector('#df-7be33189-1352-464b-9b46-25bec84066a4 button.colab-df-convert');\n",
              "      buttonEl.style.display =\n",
              "        google.colab.kernel.accessAllowed ? 'block' : 'none';\n",
              "\n",
              "      async function convertToInteractive(key) {\n",
              "        const element = document.querySelector('#df-7be33189-1352-464b-9b46-25bec84066a4');\n",
              "        const dataTable =\n",
              "          await google.colab.kernel.invokeFunction('convertToInteractive',\n",
              "                                                    [key], {});\n",
              "        if (!dataTable) return;\n",
              "\n",
              "        const docLinkHtml = 'Like what you see? Visit the ' +\n",
              "          '<a target=\"_blank\" href=https://colab.research.google.com/notebooks/data_table.ipynb>data table notebook</a>'\n",
              "          + ' to learn more about interactive tables.';\n",
              "        element.innerHTML = '';\n",
              "        dataTable['output_type'] = 'display_data';\n",
              "        await google.colab.output.renderOutput(dataTable, element);\n",
              "        const docLink = document.createElement('div');\n",
              "        docLink.innerHTML = docLinkHtml;\n",
              "        element.appendChild(docLink);\n",
              "      }\n",
              "    </script>\n",
              "  </div>\n",
              "\n",
              "\n",
              "<div id=\"df-4211eab9-858d-45cd-9c84-da08701a6034\">\n",
              "  <button class=\"colab-df-quickchart\" onclick=\"quickchart('df-4211eab9-858d-45cd-9c84-da08701a6034')\"\n",
              "            title=\"Suggest charts.\"\n",
              "            style=\"display:none;\">\n",
              "\n",
              "<svg xmlns=\"http://www.w3.org/2000/svg\" height=\"24px\"viewBox=\"0 0 24 24\"\n",
              "     width=\"24px\">\n",
              "    <g>\n",
              "        <path d=\"M19 3H5c-1.1 0-2 .9-2 2v14c0 1.1.9 2 2 2h14c1.1 0 2-.9 2-2V5c0-1.1-.9-2-2-2zM9 17H7v-7h2v7zm4 0h-2V7h2v10zm4 0h-2v-4h2v4z\"/>\n",
              "    </g>\n",
              "</svg>\n",
              "  </button>\n",
              "\n",
              "<style>\n",
              "  .colab-df-quickchart {\n",
              "    background-color: #E8F0FE;\n",
              "    border: none;\n",
              "    border-radius: 50%;\n",
              "    cursor: pointer;\n",
              "    display: none;\n",
              "    fill: #1967D2;\n",
              "    height: 32px;\n",
              "    padding: 0 0 0 0;\n",
              "    width: 32px;\n",
              "  }\n",
              "\n",
              "  .colab-df-quickchart:hover {\n",
              "    background-color: #E2EBFA;\n",
              "    box-shadow: 0px 1px 2px rgba(60, 64, 67, 0.3), 0px 1px 3px 1px rgba(60, 64, 67, 0.15);\n",
              "    fill: #174EA6;\n",
              "  }\n",
              "\n",
              "  [theme=dark] .colab-df-quickchart {\n",
              "    background-color: #3B4455;\n",
              "    fill: #D2E3FC;\n",
              "  }\n",
              "\n",
              "  [theme=dark] .colab-df-quickchart:hover {\n",
              "    background-color: #434B5C;\n",
              "    box-shadow: 0px 1px 3px 1px rgba(0, 0, 0, 0.15);\n",
              "    filter: drop-shadow(0px 1px 2px rgba(0, 0, 0, 0.3));\n",
              "    fill: #FFFFFF;\n",
              "  }\n",
              "</style>\n",
              "\n",
              "  <script>\n",
              "    async function quickchart(key) {\n",
              "      const charts = await google.colab.kernel.invokeFunction(\n",
              "          'suggestCharts', [key], {});\n",
              "    }\n",
              "    (() => {\n",
              "      let quickchartButtonEl =\n",
              "        document.querySelector('#df-4211eab9-858d-45cd-9c84-da08701a6034 button');\n",
              "      quickchartButtonEl.style.display =\n",
              "        google.colab.kernel.accessAllowed ? 'block' : 'none';\n",
              "    })();\n",
              "  </script>\n",
              "</div>\n",
              "    </div>\n",
              "  </div>\n"
            ]
          },
          "metadata": {},
          "execution_count": 21
        }
      ]
    },
    {
      "cell_type": "code",
      "source": [
        "# test用のデータ拡張\n",
        "image_transform_test = albu.Compose([\n",
        "    albu.Resize(ARGS[\"image_size\"][0], ARGS[\"image_size\"][1]),\n",
        "    albu.Normalize((0.5, 0.5, 0.5), (0.5, 0.5, 0.5)),\n",
        "    AT.ToTensorV2 ()\n",
        "    ])\n",
        "test_dataset = CustomDataset(submit, image_transform_test, data_type=\"test\")\n",
        "test_loader = DataLoader(test_dataset, batch_size=32, shuffle=False, num_workers=4)"
      ],
      "metadata": {
        "id": "f2UO14hpr5uw"
      },
      "execution_count": null,
      "outputs": []
    },
    {
      "cell_type": "code",
      "source": [
        "@torch.no_grad()\n",
        "def valid_fn(model, dataloader, device):\n",
        "    model.eval()\n",
        "\n",
        "    dataset_size = 0\n",
        "    running_loss = 0.0\n",
        "\n",
        "    predict_list = []\n",
        "\n",
        "    bar = tqdm(enumerate(dataloader), total=len(dataloader))\n",
        "    for step, images in bar:\n",
        "        images = images.to(device)\n",
        "        with torch.no_grad():\n",
        "            outputs = model(images)\n",
        "            #出力にソフトマックス関数を適用\n",
        "            predicts = outputs.softmax(dim=1)\n",
        "\n",
        "        predicts = predicts.cpu().detach().numpy()\n",
        "        predict_list.append(predicts)\n",
        "    predict_list = np.concatenate(predict_list, axis=0)\n",
        "    #予測値が1である確率を提出します。\n",
        "    predict_list = predict_list[:, 1]\n",
        "    gc.collect()\n",
        "\n",
        "    return predict_list"
      ],
      "metadata": {
        "id": "bwY0RvCVsTrM"
      },
      "execution_count": null,
      "outputs": []
    },
    {
      "cell_type": "code",
      "source": [
        "def inference(model_paths, dataloader, device):\n",
        "    final_preds = []\n",
        "    for i, path in enumerate(model_paths):\n",
        "        model = create_model(ARGS)\n",
        "        model = model.to(device)\n",
        "\n",
        "        #学習済みモデルの読み込み\n",
        "        model.load_state_dict(torch.load(path))\n",
        "        model.eval()\n",
        "\n",
        "        print(f\"Getting predictions for model {i+1}\")\n",
        "        preds = valid_fn(model, dataloader, device)\n",
        "        final_preds.append(preds)\n",
        "\n",
        "    final_preds = np.array(final_preds)\n",
        "    final_preds = np.mean(final_preds, axis=0)\n",
        "    return final_preds"
      ],
      "metadata": {
        "id": "O9gbh77-sVtX"
      },
      "execution_count": null,
      "outputs": []
    },
    {
      "cell_type": "code",
      "source": [
        "MODEL_PATHS = [\n",
        "    f\"{ARGS['OUT_DIR']}/Score-Fold-{i}.bin\" for i in range(ARGS[\"n_fold\"])\n",
        "]\n",
        "\n",
        "predict_list = inference(MODEL_PATHS, test_loader, ARGS[\"device\"])\n",
        "submit[1] = predict_list\n",
        "submit.head()"
      ],
      "metadata": {
        "colab": {
          "base_uri": "https://localhost:8080/",
          "height": 387
        },
        "id": "-ExfBRfTsYWD",
        "outputId": "ba7f89ff-ca79-48a0-a8b7-60c5b92bbaba"
      },
      "execution_count": null,
      "outputs": [
        {
          "output_type": "stream",
          "name": "stdout",
          "text": [
            "Getting predictions for model 1\n"
          ]
        },
        {
          "output_type": "stream",
          "name": "stderr",
          "text": [
            "100%|██████████| 69/69 [02:29<00:00,  2.17s/it]\n"
          ]
        },
        {
          "output_type": "stream",
          "name": "stdout",
          "text": [
            "Getting predictions for model 2\n"
          ]
        },
        {
          "output_type": "stream",
          "name": "stderr",
          "text": [
            "100%|██████████| 69/69 [01:17<00:00,  1.12s/it]\n"
          ]
        },
        {
          "output_type": "stream",
          "name": "stdout",
          "text": [
            "Getting predictions for model 3\n"
          ]
        },
        {
          "output_type": "stream",
          "name": "stderr",
          "text": [
            "100%|██████████| 69/69 [01:17<00:00,  1.12s/it]\n"
          ]
        },
        {
          "output_type": "stream",
          "name": "stdout",
          "text": [
            "Getting predictions for model 4\n"
          ]
        },
        {
          "output_type": "stream",
          "name": "stderr",
          "text": [
            "100%|██████████| 69/69 [01:17<00:00,  1.12s/it]\n"
          ]
        },
        {
          "output_type": "stream",
          "name": "stdout",
          "text": [
            "Getting predictions for model 5\n"
          ]
        },
        {
          "output_type": "stream",
          "name": "stderr",
          "text": [
            "100%|██████████| 69/69 [01:16<00:00,  1.12s/it]\n"
          ]
        },
        {
          "output_type": "execute_result",
          "data": {
            "text/plain": [
              "          0         1\n",
              "0  2176.png  0.861401\n",
              "1  2177.png  0.826868\n",
              "2  2178.png  0.044389\n",
              "3  2179.png  0.996836\n",
              "4  2180.png  0.180839"
            ],
            "text/html": [
              "\n",
              "  <div id=\"df-dab78998-3a04-407a-bf44-95156d93b74c\" class=\"colab-df-container\">\n",
              "    <div>\n",
              "<style scoped>\n",
              "    .dataframe tbody tr th:only-of-type {\n",
              "        vertical-align: middle;\n",
              "    }\n",
              "\n",
              "    .dataframe tbody tr th {\n",
              "        vertical-align: top;\n",
              "    }\n",
              "\n",
              "    .dataframe thead th {\n",
              "        text-align: right;\n",
              "    }\n",
              "</style>\n",
              "<table border=\"1\" class=\"dataframe\">\n",
              "  <thead>\n",
              "    <tr style=\"text-align: right;\">\n",
              "      <th></th>\n",
              "      <th>0</th>\n",
              "      <th>1</th>\n",
              "    </tr>\n",
              "  </thead>\n",
              "  <tbody>\n",
              "    <tr>\n",
              "      <th>0</th>\n",
              "      <td>2176.png</td>\n",
              "      <td>0.861401</td>\n",
              "    </tr>\n",
              "    <tr>\n",
              "      <th>1</th>\n",
              "      <td>2177.png</td>\n",
              "      <td>0.826868</td>\n",
              "    </tr>\n",
              "    <tr>\n",
              "      <th>2</th>\n",
              "      <td>2178.png</td>\n",
              "      <td>0.044389</td>\n",
              "    </tr>\n",
              "    <tr>\n",
              "      <th>3</th>\n",
              "      <td>2179.png</td>\n",
              "      <td>0.996836</td>\n",
              "    </tr>\n",
              "    <tr>\n",
              "      <th>4</th>\n",
              "      <td>2180.png</td>\n",
              "      <td>0.180839</td>\n",
              "    </tr>\n",
              "  </tbody>\n",
              "</table>\n",
              "</div>\n",
              "    <div class=\"colab-df-buttons\">\n",
              "\n",
              "  <div class=\"colab-df-container\">\n",
              "    <button class=\"colab-df-convert\" onclick=\"convertToInteractive('df-dab78998-3a04-407a-bf44-95156d93b74c')\"\n",
              "            title=\"Convert this dataframe to an interactive table.\"\n",
              "            style=\"display:none;\">\n",
              "\n",
              "  <svg xmlns=\"http://www.w3.org/2000/svg\" height=\"24px\" viewBox=\"0 -960 960 960\">\n",
              "    <path d=\"M120-120v-720h720v720H120Zm60-500h600v-160H180v160Zm220 220h160v-160H400v160Zm0 220h160v-160H400v160ZM180-400h160v-160H180v160Zm440 0h160v-160H620v160ZM180-180h160v-160H180v160Zm440 0h160v-160H620v160Z\"/>\n",
              "  </svg>\n",
              "    </button>\n",
              "\n",
              "  <style>\n",
              "    .colab-df-container {\n",
              "      display:flex;\n",
              "      gap: 12px;\n",
              "    }\n",
              "\n",
              "    .colab-df-convert {\n",
              "      background-color: #E8F0FE;\n",
              "      border: none;\n",
              "      border-radius: 50%;\n",
              "      cursor: pointer;\n",
              "      display: none;\n",
              "      fill: #1967D2;\n",
              "      height: 32px;\n",
              "      padding: 0 0 0 0;\n",
              "      width: 32px;\n",
              "    }\n",
              "\n",
              "    .colab-df-convert:hover {\n",
              "      background-color: #E2EBFA;\n",
              "      box-shadow: 0px 1px 2px rgba(60, 64, 67, 0.3), 0px 1px 3px 1px rgba(60, 64, 67, 0.15);\n",
              "      fill: #174EA6;\n",
              "    }\n",
              "\n",
              "    .colab-df-buttons div {\n",
              "      margin-bottom: 4px;\n",
              "    }\n",
              "\n",
              "    [theme=dark] .colab-df-convert {\n",
              "      background-color: #3B4455;\n",
              "      fill: #D2E3FC;\n",
              "    }\n",
              "\n",
              "    [theme=dark] .colab-df-convert:hover {\n",
              "      background-color: #434B5C;\n",
              "      box-shadow: 0px 1px 3px 1px rgba(0, 0, 0, 0.15);\n",
              "      filter: drop-shadow(0px 1px 2px rgba(0, 0, 0, 0.3));\n",
              "      fill: #FFFFFF;\n",
              "    }\n",
              "  </style>\n",
              "\n",
              "    <script>\n",
              "      const buttonEl =\n",
              "        document.querySelector('#df-dab78998-3a04-407a-bf44-95156d93b74c button.colab-df-convert');\n",
              "      buttonEl.style.display =\n",
              "        google.colab.kernel.accessAllowed ? 'block' : 'none';\n",
              "\n",
              "      async function convertToInteractive(key) {\n",
              "        const element = document.querySelector('#df-dab78998-3a04-407a-bf44-95156d93b74c');\n",
              "        const dataTable =\n",
              "          await google.colab.kernel.invokeFunction('convertToInteractive',\n",
              "                                                    [key], {});\n",
              "        if (!dataTable) return;\n",
              "\n",
              "        const docLinkHtml = 'Like what you see? Visit the ' +\n",
              "          '<a target=\"_blank\" href=https://colab.research.google.com/notebooks/data_table.ipynb>data table notebook</a>'\n",
              "          + ' to learn more about interactive tables.';\n",
              "        element.innerHTML = '';\n",
              "        dataTable['output_type'] = 'display_data';\n",
              "        await google.colab.output.renderOutput(dataTable, element);\n",
              "        const docLink = document.createElement('div');\n",
              "        docLink.innerHTML = docLinkHtml;\n",
              "        element.appendChild(docLink);\n",
              "      }\n",
              "    </script>\n",
              "  </div>\n",
              "\n",
              "\n",
              "<div id=\"df-6d6b752f-b1d4-45a8-a5a0-eb1085c377bc\">\n",
              "  <button class=\"colab-df-quickchart\" onclick=\"quickchart('df-6d6b752f-b1d4-45a8-a5a0-eb1085c377bc')\"\n",
              "            title=\"Suggest charts.\"\n",
              "            style=\"display:none;\">\n",
              "\n",
              "<svg xmlns=\"http://www.w3.org/2000/svg\" height=\"24px\"viewBox=\"0 0 24 24\"\n",
              "     width=\"24px\">\n",
              "    <g>\n",
              "        <path d=\"M19 3H5c-1.1 0-2 .9-2 2v14c0 1.1.9 2 2 2h14c1.1 0 2-.9 2-2V5c0-1.1-.9-2-2-2zM9 17H7v-7h2v7zm4 0h-2V7h2v10zm4 0h-2v-4h2v4z\"/>\n",
              "    </g>\n",
              "</svg>\n",
              "  </button>\n",
              "\n",
              "<style>\n",
              "  .colab-df-quickchart {\n",
              "    background-color: #E8F0FE;\n",
              "    border: none;\n",
              "    border-radius: 50%;\n",
              "    cursor: pointer;\n",
              "    display: none;\n",
              "    fill: #1967D2;\n",
              "    height: 32px;\n",
              "    padding: 0 0 0 0;\n",
              "    width: 32px;\n",
              "  }\n",
              "\n",
              "  .colab-df-quickchart:hover {\n",
              "    background-color: #E2EBFA;\n",
              "    box-shadow: 0px 1px 2px rgba(60, 64, 67, 0.3), 0px 1px 3px 1px rgba(60, 64, 67, 0.15);\n",
              "    fill: #174EA6;\n",
              "  }\n",
              "\n",
              "  [theme=dark] .colab-df-quickchart {\n",
              "    background-color: #3B4455;\n",
              "    fill: #D2E3FC;\n",
              "  }\n",
              "\n",
              "  [theme=dark] .colab-df-quickchart:hover {\n",
              "    background-color: #434B5C;\n",
              "    box-shadow: 0px 1px 3px 1px rgba(0, 0, 0, 0.15);\n",
              "    filter: drop-shadow(0px 1px 2px rgba(0, 0, 0, 0.3));\n",
              "    fill: #FFFFFF;\n",
              "  }\n",
              "</style>\n",
              "\n",
              "  <script>\n",
              "    async function quickchart(key) {\n",
              "      const charts = await google.colab.kernel.invokeFunction(\n",
              "          'suggestCharts', [key], {});\n",
              "    }\n",
              "    (() => {\n",
              "      let quickchartButtonEl =\n",
              "        document.querySelector('#df-6d6b752f-b1d4-45a8-a5a0-eb1085c377bc button');\n",
              "      quickchartButtonEl.style.display =\n",
              "        google.colab.kernel.accessAllowed ? 'block' : 'none';\n",
              "    })();\n",
              "  </script>\n",
              "</div>\n",
              "    </div>\n",
              "  </div>\n"
            ]
          },
          "metadata": {},
          "execution_count": 25
        }
      ]
    },
    {
      "cell_type": "code",
      "source": [
        "submit.to_csv(f\"{ARGS['OUT_DIR']}/submission_CV{scores:.4f}.csv\", index=False, header=None)"
      ],
      "metadata": {
        "id": "3dgxA-ssscTw"
      },
      "execution_count": null,
      "outputs": []
    }
  ]
}